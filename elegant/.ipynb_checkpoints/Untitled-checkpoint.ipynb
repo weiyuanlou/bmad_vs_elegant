{
 "cells": [
  {
   "cell_type": "code",
   "execution_count": 8,
   "id": "dbbe4904-fb8d-4f07-bd66-e8e028988e18",
   "metadata": {},
   "outputs": [],
   "source": [
    "import numpy as np\n",
    "\n",
    "import subprocess\n",
    "import os\n",
    "\n",
    "\n",
    "def parse_sdds_table(sddsfile, columns, sdds2plaindata_exe='sdds2plaindata'):\n",
    "    \"\"\"\n",
    "    Get tabular data from SDDS file.\n",
    "    \n",
    "    Example:\n",
    "        get_table('LCLS2scH.twi', ['s', 'betax', 'betay', 'etax'])\n",
    "    \"\"\"\n",
    "    \n",
    "    assert os.path.exists(sddsfile)\n",
    "    \n",
    "    outfile = sddsfile+'_table'\n",
    "    cmd0 = [sdds2plaindata_exe, sddsfile, outfile, '-noRowCount', '-outputMode=ascii']\n",
    "    \n",
    "    cmd = cmd0 + [f'-col={c}' for c in columns] + ['-separator= ']\n",
    "\n",
    "    output,error  = subprocess.Popen(\n",
    "                    cmd, universal_newlines=True,\n",
    "                    stdout=subprocess.PIPE, stderr=subprocess.PIPE).communicate()\n",
    "    assert os.path.exists(outfile), f'{outfile} does not exist'\n",
    "    \n",
    "    rdat = np.loadtxt(outfile)\n",
    "    \n",
    "    dat = {}\n",
    "    for i, key in  enumerate(columns):\n",
    "        dat[key] = rdat[:,i]\n",
    "    \n",
    "    os.remove(outfile)\n",
    "    return dat"
   ]
  },
  {
   "cell_type": "code",
   "execution_count": 9,
   "id": "06cbef2b-69c1-4d0d-8fe4-a440c34be128",
   "metadata": {},
   "outputs": [
    {
     "data": {
      "text/plain": [
       "{'s': array([0.  , 0.  , 0.1 , 0.13, 0.23]),\n",
       " 'betax': array([10.        , 10.        ,  9.802     ,  9.72581741,  9.4177619 ]),\n",
       " 'betay': array([10.        , 10.        ,  9.802     ,  9.76096371,  9.6844036 ]),\n",
       " 'etax': array([0., 0., 0., 0., 0.])}"
      ]
     },
     "execution_count": 9,
     "metadata": {},
     "output_type": "execute_result"
    }
   ],
   "source": [
    "dat = parse_sdds_table('one_quad.twi', ['s', 'betax', 'betay', 'etax'])\n",
    "dat"
   ]
  },
  {
   "cell_type": "code",
   "execution_count": null,
   "id": "df41175d-3a3f-4055-820e-f942e7641e2e",
   "metadata": {},
   "outputs": [],
   "source": []
  }
 ],
 "metadata": {
  "kernelspec": {
   "display_name": "Test2",
   "language": "python",
   "name": "test2"
  },
  "language_info": {
   "codemirror_mode": {
    "name": "ipython",
    "version": 3
   },
   "file_extension": ".py",
   "mimetype": "text/x-python",
   "name": "python",
   "nbconvert_exporter": "python",
   "pygments_lexer": "ipython3",
   "version": "3.8.13"
  }
 },
 "nbformat": 4,
 "nbformat_minor": 5
}
