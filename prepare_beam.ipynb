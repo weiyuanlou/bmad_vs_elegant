{
 "cells": [
  {
   "cell_type": "markdown",
   "metadata": {},
   "source": [
    "# Prepare beams from the elegant data"
   ]
  },
  {
   "cell_type": "code",
   "execution_count": null,
   "metadata": {},
   "outputs": [],
   "source": [
    "from pmd_beamphysics import ParticleGroup\n",
    "from pmd_beamphysics.interfaces.elegant import elegant_to_data"
   ]
  },
  {
   "cell_type": "code",
   "execution_count": null,
   "metadata": {},
   "outputs": [],
   "source": [
    "EROOT = '../../elegant/beams/'\n",
    "ebeam = EROOT+'Astra100pC_gaussian_3sigma_dist_10M_match.out'\n",
    "#ebeam = EROOT+'Astra100pC_gaussian_100MeV_1M.out'"
   ]
  },
  {
   "cell_type": "code",
   "execution_count": null,
   "metadata": {},
   "outputs": [],
   "source": [
    "!ls -ahl {ebeam}"
   ]
  },
  {
   "cell_type": "code",
   "execution_count": null,
   "metadata": {},
   "outputs": [],
   "source": [
    "F = ebeam\n",
    "#DAT = elegant_to_data(F, charge = 100e-12, sdds2plaindata_bin='/Users/chrisonian/Code/elegant/bin/sdds2plaindata')"
   ]
  },
  {
   "cell_type": "code",
   "execution_count": null,
   "metadata": {},
   "outputs": [],
   "source": [
    "#!which sdds2plaindata"
   ]
  },
  {
   "cell_type": "code",
   "execution_count": null,
   "metadata": {},
   "outputs": [],
   "source": [
    "#?elegant_to_data"
   ]
  },
  {
   "cell_type": "code",
   "execution_count": null,
   "metadata": {},
   "outputs": [],
   "source": [
    "P1 = ParticleGroup(data=DAT)"
   ]
  },
  {
   "cell_type": "code",
   "execution_count": null,
   "metadata": {},
   "outputs": [],
   "source": [
    "P1 = ParticleGroup(data=DAT)\n",
    "P1.plot('delta_t', 'delta_pz', bins=200)"
   ]
  },
  {
   "cell_type": "markdown",
   "metadata": {},
   "source": [
    "# Resample"
   ]
  },
  {
   "cell_type": "code",
   "execution_count": null,
   "metadata": {},
   "outputs": [],
   "source": []
  },
  {
   "cell_type": "code",
   "execution_count": 2,
   "metadata": {},
   "outputs": [],
   "source": [
    "# Make a bmad beam via ParticleGroup\n",
    "# Note that these particles aim to follow the Bmad coordinate ( not at rest )\n",
    "\n",
    "Q = 13E-12     # Total charge\n",
    "Np = 13     # Number of macro particles\n",
    "data = {'x':np.array([0,-1E-3,1E-3, 0,0,0,0,0,0,0,0,0,0]),\n",
    "        'px':np.array([0,0,0,-1E-3,1E-3, 0,0,0,0,0,0,0,0]),\n",
    "        'y':np.array([0,0,0,0,0,-1E-3,1E-3, 0,0,0,0,0,0]),\n",
    "        'py':np.array([0,0,0,0,0,0,0,-1E-3,1E-3, 0,0,0,0]),\n",
    "        'z':np.zeros(Np),\n",
    "        'pz':np.array([0,0,0,0,0,0,0,0,0,0,0,-1E-3,1E-3]),\n",
    "        't': np.array([0,0,0,0,0,0,0,0,0,-1E-3,1E-3, 0,0]),\n",
    "        'status':np.ones(Np), \n",
    "        'weight':np.ones(Np)*Q/Np, \n",
    "        'species':'electron'}\n",
    "P = ParticleGroup(data=data)\n",
    "\n",
    "P.write_bmad('bmad/beam_13p_bmad.txt')\n",
    "#P.write_elegant('elegant/beam_13p_elegant.sdds')"
   ]
  },
  {
   "cell_type": "code",
   "execution_count": null,
   "metadata": {},
   "outputs": [],
   "source": []
  },
  {
   "cell_type": "code",
   "execution_count": null,
   "metadata": {},
   "outputs": [],
   "source": []
  },
  {
   "cell_type": "code",
   "execution_count": null,
   "metadata": {},
   "outputs": [],
   "source": []
  },
  {
   "cell_type": "code",
   "execution_count": null,
   "metadata": {},
   "outputs": [],
   "source": []
  },
  {
   "cell_type": "code",
   "execution_count": null,
   "metadata": {},
   "outputs": [],
   "source": []
  },
  {
   "cell_type": "code",
   "execution_count": null,
   "metadata": {},
   "outputs": [],
   "source": [
    "P1.n_particle"
   ]
  },
  {
   "cell_type": "code",
   "execution_count": null,
   "metadata": {},
   "outputs": [],
   "source": [
    "import numpy as np"
   ]
  },
  {
   "cell_type": "code",
   "execution_count": null,
   "metadata": {},
   "outputs": [],
   "source": [
    "#NPART = 100000\n",
    "NPART = 10000000\n",
    "NPART = 9988000\n",
    "NPART = 10000\n",
    "\n",
    "P3 = P1.resample(NPART)\n",
    "#P3 = P2.copy()\n",
    "PARTNAME=str(NPART//1000)+'k'\n",
    "#PARTNAME=str(NPART//1000000)+'M'\n",
    "PARTNAME"
   ]
  },
  {
   "cell_type": "code",
   "execution_count": null,
   "metadata": {},
   "outputs": [],
   "source": [
    "FNAME=f'beam_BEAM0_{PARTNAME}_unheated.txt'\n",
    "print(FNAME)"
   ]
  },
  {
   "cell_type": "code",
   "execution_count": null,
   "metadata": {},
   "outputs": [],
   "source": [
    "FNAME=f'beam_BEAM0_{PARTNAME}_unheated.txt'\n",
    "P3.write_bmad(FNAME, verbose=True, p0c=P3['mean_p'], t_ref=P3['mean_t'])"
   ]
  },
  {
   "cell_type": "code",
   "execution_count": null,
   "metadata": {},
   "outputs": [],
   "source": [
    "heat = 7e3 # eV\n",
    "P3.pz += np.random.normal(size=len(P3))*heat"
   ]
  },
  {
   "cell_type": "code",
   "execution_count": null,
   "metadata": {},
   "outputs": [],
   "source": [
    "P3.plot('delta_t', 'pz', bins=200)"
   ]
  },
  {
   "cell_type": "code",
   "execution_count": null,
   "metadata": {},
   "outputs": [],
   "source": [
    "P0C = P3['mean_p']\n",
    "P0C"
   ]
  },
  {
   "cell_type": "code",
   "execution_count": null,
   "metadata": {},
   "outputs": [],
   "source": [
    "FNAME=f'beam_BEAM0_{PARTNAME}.txt'\n",
    "P3.write_bmad(FNAME, verbose=True, p0c=P3['mean_p'], t_ref=P3['mean_t'])"
   ]
  },
  {
   "cell_type": "code",
   "execution_count": null,
   "metadata": {},
   "outputs": [],
   "source": [
    "!ls -lah"
   ]
  },
  {
   "cell_type": "code",
   "execution_count": null,
   "metadata": {},
   "outputs": [],
   "source": [
    "!pwd"
   ]
  },
  {
   "cell_type": "code",
   "execution_count": 31,
   "metadata": {},
   "outputs": [],
   "source": [
    "#This converts h5 file from Bmad to sdds file required by Elegant\n",
    "\n",
    "from pmd_beamphysics import ParticleGroup, particle_paths, pmd_init\n",
    "from h5py import File\n",
    "\n",
    "locname='CM14END'\n",
    "#H5FILE = '/global/homes/w/wlou1991/cfs/csr_lcls/Aug12_2020_alloff_Np11/beam0.hdf5'\n",
    "H5FILE = '/global/homes/w/wlou1991/cfs/csr_lcls/Aug18_2020_alloff_Np1001/beam_BEAM0_1001_nopz.hdf5'\n",
    "H5FILE = '/global/homes/w/wlou1991/cfs/csr_lcls/Aug18_2020_alloff_Np1001/Nb_0_Np_100k/'+ str(locname)+'.hdf5'\n",
    "#H5FILE = '/global/homes/w/wlou1991/cfs/csr_lcls/Aug18_2020_alloff_Np1001/beam0.hdf5'\n",
    "#H5FILE = 'data/astra_particles.h5'\n",
    "\n",
    "# Load\n",
    "h5 = File(H5FILE, 'r')\n",
    "ppaths = particle_paths(h5)\n",
    "ph5 = h5[ppaths[0]]\n",
    "\n",
    "P = ParticleGroup(ph5)\n",
    "\n",
    "#P.write_elegant('beam_BEAM0_1001_nopz.sdds')\n",
    "P.write_elegant(str(locname) + '.sdds')\n",
    "#P.write_elegant('DC2OB.sdds')\n"
   ]
  },
  {
   "cell_type": "code",
   "execution_count": 17,
   "metadata": {},
   "outputs": [
    {
     "data": {
      "text/plain": [
       "array([4.19031713, 4.19031711, 4.1903171 , ..., 4.19029743, 4.19029741,\n",
       "       4.19029739])"
      ]
     },
     "execution_count": 17,
     "metadata": {},
     "output_type": "execute_result"
    }
   ],
   "source": [
    "P.t*1E7"
   ]
  },
  {
   "cell_type": "code",
   "execution_count": 4,
   "metadata": {},
   "outputs": [],
   "source": [
    "import matplotlib.pyplot as plt"
   ]
  },
  {
   "cell_type": "code",
   "execution_count": 18,
   "metadata": {},
   "outputs": [
    {
     "data": {
      "text/plain": [
       "<matplotlib.collections.PathCollection at 0x2aaad737abd0>"
      ]
     },
     "execution_count": 18,
     "metadata": {},
     "output_type": "execute_result"
    },
    {
     "data": {
      "image/png": "[encoded data removed]",
      "text/plain": [
       "<Figure size 432x288 with 1 Axes>"
      ]
     },
     "metadata": {
      "needs_background": "light"
     },
     "output_type": "display_data"
    }
   ],
   "source": [
    "plt.scatter(P.t*1E7,P.p,label='Elegant')"
   ]
  },
  {
   "cell_type": "code",
   "execution_count": 5,
   "metadata": {},
   "outputs": [
    {
     "data": {
      "text/plain": [
       "<matplotlib.collections.PathCollection at 0x2aaad708bdd0>"
      ]
     },
     "execution_count": 5,
     "metadata": {},
     "output_type": "execute_result"
    },
    {
     "data": {
      "image/png": "[encoded data removed]",
      "text/plain": [
       "<Figure size 432x288 with 1 Axes>"
      ]
     },
     "metadata": {
      "needs_background": "light"
     },
     "output_type": "display_data"
    }
   ],
   "source": [
    "plt.scatter(P['delta_t'],P.p,label='Elegant')"
   ]
  },
  {
   "cell_type": "code",
   "execution_count": null,
   "metadata": {},
   "outputs": [],
   "source": [
    "plt.scatter(P.x,P.xp,label='Elegant')"
   ]
  },
  {
   "cell_type": "code",
   "execution_count": 8,
   "metadata": {},
   "outputs": [
    {
     "data": {
      "text/plain": [
       "array([3.94153863e-07, 3.94153857e-07, 3.94153850e-07, ...,\n",
       "       3.94147217e-07, 3.94147210e-07, 3.94147204e-07])"
      ]
     },
     "execution_count": 8,
     "metadata": {},
     "output_type": "execute_result"
    }
   ],
   "source": [
    "P.t"
   ]
  },
  {
   "cell_type": "code",
   "execution_count": null,
   "metadata": {},
   "outputs": [],
   "source": [
    "def f3(beam_subdir,location):\n",
    "    beam_dir = '/global/homes/w/wlou1991/cfs/csr_lcls/Aug18_2020_alloff_Np1001/'\n",
    "    H5FILE= beam_dir + beam_subdir  + locationList3[location-1] +'.hdf5'\n",
    "    print('Filename:' + str(H5FILE))\n",
    "    #h5 = File(H5FILE, 'r')\n",
    "    #ppaths = particle_paths(h5)\n",
    "    #ph5 = h5[ppaths[0]]\n",
    "    P=ParticleGroup(H5FILE)\n",
    "    Palive = P.where(P['status'] == 1)\n",
    "    return Palive"
   ]
  },
  {
   "cell_type": "code",
   "execution_count": null,
   "metadata": {},
   "outputs": [],
   "source": [
    "plt.scatter(haha['delta_t'],haha.p,label='Bmad')"
   ]
  }
 ],
 "metadata": {
  "kernelspec": {
   "display_name": "Python 3 (ipykernel)",
   "language": "python",
   "name": "python3"
  },
  "language_info": {
   "codemirror_mode": {
    "name": "ipython",
    "version": 3
   },
   "file_extension": ".py",
   "mimetype": "text/x-python",
   "name": "python",
   "nbconvert_exporter": "python",
   "pygments_lexer": "ipython3",
   "version": "3.8.13"
  }
 },
 "nbformat": 4,
 "nbformat_minor": 4
}
