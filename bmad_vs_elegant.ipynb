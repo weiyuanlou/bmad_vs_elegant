{
 "cells": [
  {
   "cell_type": "code",
   "execution_count": 1,
   "id": "5c61b053-2554-4871-8419-10b82a0167c1",
   "metadata": {},
   "outputs": [],
   "source": [
    "from pmd_beamphysics import ParticleGroup\n",
    "from pmd_beamphysics.interfaces.elegant import elegant_to_data\n",
    "from h5py import File\n",
    "\n",
    "\n",
    "import numpy as np\n",
    "\n",
    "from pytao import Tao\n",
    "\n",
    "import subprocess\n",
    "import os\n",
    "\n",
    "root_dir = os.getcwd()"
   ]
  },
  {
   "cell_type": "markdown",
   "id": "96c821b9-82b1-4185-b685-b24da0920f0f",
   "metadata": {},
   "source": [
    "## Helper functions"
   ]
  },
  {
   "cell_type": "code",
   "execution_count": 2,
   "id": "222e2ce6-0052-4a95-a2fa-8a634ad795d0",
   "metadata": {},
   "outputs": [],
   "source": [
    "# Make sure root_dir/code has been added to $PTHONPATH\n",
    "from parse_output import get_twiss_tao, get_twiss_elegant\n",
    "from write_lattice import write_bmad_lattice, write_elegant_lattice"
   ]
  },
  {
   "cell_type": "markdown",
   "id": "3249ea76-5574-47c9-bdc0-2d696a34b8f6",
   "metadata": {},
   "source": [
    "# Prepare Bmad and elegant lattice files"
   ]
  },
  {
   "cell_type": "markdown",
   "id": "f0145a94-7787-4022-9554-a7e68254b085",
   "metadata": {},
   "source": [
    "### Refer to Bmad and Elegant manuals for valid element parameters"
   ]
  },
  {
   "cell_type": "code",
   "execution_count": 3,
   "id": "3440961f-c4b0-4c7e-ae1d-9faaae492cb5",
   "metadata": {},
   "outputs": [],
   "source": [
    "quad_dict_bmad={'L':0.03, 'k1':2.0, 'x_offset':1E-4}"
   ]
  },
  {
   "cell_type": "code",
   "execution_count": 5,
   "id": "5054181a-a5ea-4813-b1f1-b891c58a2a73",
   "metadata": {},
   "outputs": [],
   "source": [
    "quad_dict_elegant={'L':0.03, 'K1':2.0, 'dx':1E-4}"
   ]
  },
  {
   "cell_type": "code",
   "execution_count": 4,
   "id": "89651690-45a7-4928-91c6-dc9702bd824b",
   "metadata": {},
   "outputs": [],
   "source": [
    "write_bmad_lattice('quad', quad_dict_bmad, root_dir)"
   ]
  },
  {
   "cell_type": "code",
   "execution_count": 6,
   "id": "fb975388-2bab-4de1-9c7d-d6f1c1a19d28",
   "metadata": {},
   "outputs": [],
   "source": [
    "write_elegant_lattice(\"QUAD\", quad_dict_elegant, root_dir)"
   ]
  },
  {
   "cell_type": "markdown",
   "id": "95f4be92-6018-4f17-b289-b72a906c49dd",
   "metadata": {},
   "source": [
    "# run Tao (bmad)"
   ]
  },
  {
   "cell_type": "code",
   "execution_count": 7,
   "id": "71cdaf81-69be-4015-993b-3ee1c06dd8ac",
   "metadata": {},
   "outputs": [],
   "source": [
    "# This line can only be run ONCE\n",
    "tao = Tao(f'-init {root_dir}/bmad/tao.init -noplot')"
   ]
  },
  {
   "cell_type": "code",
   "execution_count": 8,
   "id": "be3b3077-1ad8-495c-8ffc-711324c79515",
   "metadata": {},
   "outputs": [],
   "source": [
    "tao.cmd('beamon')\n",
    "tao.cmd('write beam ./bmad/beam_end_tao.hdf5 -at END');  # For analysis"
   ]
  },
  {
   "cell_type": "markdown",
   "id": "e91734c0-fdad-4cdf-8a57-903081789509",
   "metadata": {},
   "source": [
    "#### collect Bmad beam and Twiss"
   ]
  },
  {
   "cell_type": "code",
   "execution_count": 9,
   "id": "209ed445-398e-42fd-bd65-ed145aba1d54",
   "metadata": {},
   "outputs": [],
   "source": [
    "H5FILE = root_dir+'/bmad/beam_end_tao.hdf5'\n",
    "Ptao = ParticleGroup(H5FILE)\n",
    "\n",
    "twiss_tao = get_twiss_tao(tao, 'END')"
   ]
  },
  {
   "cell_type": "markdown",
   "id": "1e2b052d-caaf-4cc2-8cc0-cf6df9fd240d",
   "metadata": {},
   "source": [
    "# run Elegant"
   ]
  },
  {
   "cell_type": "code",
   "execution_count": 10,
   "id": "e8ea1461-ef3f-4618-b34e-7c27395003af",
   "metadata": {},
   "outputs": [
    {
     "name": "stdout",
     "output_type": "stream",
     "text": [
      "/Users/wlou/Code/elegant/bin/elegant\n"
     ]
    }
   ],
   "source": [
    "# Make sure elegant has been installed and located\n",
    "!which elegant"
   ]
  },
  {
   "cell_type": "code",
   "execution_count": 11,
   "id": "4ae2340f-1731-4339-b43d-04134c23077e",
   "metadata": {},
   "outputs": [
    {
     "data": {
      "text/plain": [
       "CompletedProcess(args=['elegant', 'one_ele.ele'], returncode=0)"
      ]
     },
     "execution_count": 11,
     "metadata": {},
     "output_type": "execute_result"
    }
   ],
   "source": [
    "os.chdir(root_dir+'/elegant')\n",
    "subprocess.run([\"elegant\", \"one_ele.ele\"], stdout=subprocess.DEVNULL)\n",
    "#os.chdir(root_dir)"
   ]
  },
  {
   "cell_type": "markdown",
   "id": "85d995a3-ffd9-4b22-a350-3eea1b8ddb8f",
   "metadata": {},
   "source": [
    "#### collect Elegant beam and Twiss"
   ]
  },
  {
   "cell_type": "code",
   "execution_count": 12,
   "id": "060ba16c-72e8-4bde-bf31-045dd3c07c25",
   "metadata": {},
   "outputs": [],
   "source": [
    "OUTFILE = root_dir+'/elegant/BPM_END.out'\n",
    "DAT = elegant_to_data(OUTFILE, charge = 13e-12)\n",
    "Pele = ParticleGroup(data=DAT)\n",
    "\n",
    "elegant_twiss_file_name = root_dir + '/elegant/one_ele.twi'\n",
    "twiss_elegant = get_twiss_elegant(elegant_twiss_file_name)"
   ]
  },
  {
   "cell_type": "markdown",
   "id": "ba24effa-2b53-4f6d-827f-151140a07565",
   "metadata": {},
   "source": [
    "# Compare beam 6D coordinates and 8 Twiss"
   ]
  },
  {
   "cell_type": "code",
   "execution_count": 13,
   "id": "ac9017bb-87fd-4fb6-9968-35c39c72e3b4",
   "metadata": {},
   "outputs": [
    {
     "data": {
      "text/plain": [
       "array([ 9.92226266e+00,  1.58968962e+00,  9.95811888e+00,  3.96874699e-01,\n",
       "       -8.99730024e-08, -5.99640049e-06,  0.00000000e+00,  0.00000000e+00])"
      ]
     },
     "execution_count": 13,
     "metadata": {},
     "output_type": "execute_result"
    }
   ],
   "source": [
    "twiss_tao"
   ]
  },
  {
   "cell_type": "code",
   "execution_count": 15,
   "id": "74b8f61f-9e3c-4e97-93a4-ca7331557368",
   "metadata": {},
   "outputs": [
    {
     "data": {
      "text/plain": [
       "array([ 0.00000000e+00,  0.00000000e+00,  0.00000000e+00,  5.55111512e-17,\n",
       "        0.00000000e+00, -8.47032947e-22,  0.00000000e+00,  0.00000000e+00])"
      ]
     },
     "execution_count": 15,
     "metadata": {},
     "output_type": "execute_result"
    }
   ],
   "source": [
    "twiss_elegant - twiss_tao"
   ]
  },
  {
   "cell_type": "code",
   "execution_count": 33,
   "id": "3d54fc1e-fcdf-4821-b2bf-2935a30bc0f5",
   "metadata": {},
   "outputs": [],
   "source": [
    "def compare_twiss(twiss_tao, twiss_elegant, tol=1e-6):\n",
    "    print(\"Agree in all 8 Twiss...?\", np.all(abs(twiss_tao - twiss_elegant) < tol))\n",
    "    return None"
   ]
  },
  {
   "cell_type": "code",
   "execution_count": 34,
   "id": "251ae199-582f-48b8-8524-bab203a0f73b",
   "metadata": {},
   "outputs": [
    {
     "name": "stdout",
     "output_type": "stream",
     "text": [
      "Agree in all 8 Twiss...? True\n"
     ]
    }
   ],
   "source": [
    "compare_twiss(twiss_tao, twiss_elegant, 1e-6)"
   ]
  },
  {
   "cell_type": "code",
   "execution_count": 18,
   "id": "1644ee69-4949-47ea-aea1-52dce54935ed",
   "metadata": {},
   "outputs": [
    {
     "data": {
      "text/plain": [
       "array([ 8.99865008e-08, -9.99010148e-04,  9.99190121e-04, -2.99010143e-05,\n",
       "        3.00809873e-05,  8.99865008e-08,  8.99865008e-08,  8.99865008e-08,\n",
       "        8.99865008e-08,  8.99865008e-08,  8.99865008e-08,  9.00765639e-08,\n",
       "        8.98966177e-08])"
      ]
     },
     "execution_count": 18,
     "metadata": {},
     "output_type": "execute_result"
    }
   ],
   "source": [
    "Ptao.x"
   ]
  },
  {
   "cell_type": "code",
   "execution_count": 20,
   "id": "8b1ff10f-c54c-455b-b7ba-e4abbc0f49b8",
   "metadata": {},
   "outputs": [
    {
     "data": {
      "text/plain": [
       "array([ 1.93679966e-14,  2.13048112e-13, -1.74312171e-13,  1.50168054e-11,\n",
       "       -1.49780694e-11,  1.93679966e-14,  1.93679966e-14,  1.93679966e-14,\n",
       "        1.93679966e-14,  1.93679966e-14,  1.93679966e-14,  1.09398184e-13,\n",
       "        1.09257031e-13])"
      ]
     },
     "execution_count": 20,
     "metadata": {},
     "output_type": "execute_result"
    }
   ],
   "source": [
    "Ptao.x - Pele.x"
   ]
  },
  {
   "cell_type": "code",
   "execution_count": 16,
   "id": "8e2d78fb-3eb3-4862-bacd-e6b742652971",
   "metadata": {},
   "outputs": [],
   "source": [
    "def compare_two_P(Ptao, Pele, tol=1e-9):\n",
    "    \n",
    "    assert Ptao.n_particle == Pele.n_particle, \"The two particle groups need to have the same number of particles\"\n",
    "    \n",
    "    print(f\"Comparing {Ptao.n_particle} particles...\")\n",
    "    \n",
    "    print(\"Agree in all x...?\", np.all(abs(Ptao.x - Pele.x) < tol))\n",
    "    print(\"Agree in all xp...?\", np.all(abs(Ptao.xp - Pele.xp) < tol))\n",
    "    print(\"Agree in all y...?\", np.all(abs(Ptao.y - Pele.y) < tol))\n",
    "    print(\"Agree in all yp...?\", np.all(abs(Ptao.yp - Pele.yp) < tol))\n",
    "    print(\"Agree in all t...?\", np.all(abs(Ptao.t - Pele.t) < tol))\n",
    "    \n",
    "    print(\"Agree in all delta (E0=10MeV)?\", np.all(abs(Ptao.energy - Pele.energy)/10E6 < tol))\n",
    "    "
   ]
  },
  {
   "cell_type": "code",
   "execution_count": 17,
   "id": "df579fbd-10da-4619-8594-15b6e5f4a288",
   "metadata": {},
   "outputs": [
    {
     "name": "stdout",
     "output_type": "stream",
     "text": [
      "Comparing 13 particles...\n",
      "Agree in all x...? True\n",
      "Agree in all xp...? True\n",
      "Agree in all y...? True\n",
      "Agree in all yp...? True\n",
      "Agree in all t...? True\n",
      "Agree in all delta (E0=10MeV)? True\n"
     ]
    }
   ],
   "source": [
    "compare_two_P(Ptao, Pele, tol=1e-9)"
   ]
  }
 ],
 "metadata": {
  "kernelspec": {
   "display_name": "Lcls-live",
   "language": "python",
   "name": "lcls-live"
  },
  "language_info": {
   "codemirror_mode": {
    "name": "ipython",
    "version": 3
   },
   "file_extension": ".py",
   "mimetype": "text/x-python",
   "name": "python",
   "nbconvert_exporter": "python",
   "pygments_lexer": "ipython3",
   "version": "3.8.13"
  }
 },
 "nbformat": 4,
 "nbformat_minor": 5
}
