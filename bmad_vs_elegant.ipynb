{
 "cells": [
  {
   "cell_type": "code",
   "execution_count": 12,
   "id": "5c61b053-2554-4871-8419-10b82a0167c1",
   "metadata": {},
   "outputs": [],
   "source": [
    "from pmd_beamphysics import ParticleGroup, particle_paths\n",
    "from pmd_beamphysics.interfaces.elegant import elegant_to_data\n",
    "from h5py import File\n",
    "\n",
    "import os\n",
    "import numpy as np\n",
    "\n",
    "from pytao import Tao\n",
    "\n",
    "root_dir = os.getcwd()"
   ]
  },
  {
   "cell_type": "markdown",
   "id": "8bfbb9b0-b54e-4ec5-bdbf-3557e982c79e",
   "metadata": {},
   "source": [
    "# Tao"
   ]
  },
  {
   "cell_type": "code",
   "execution_count": 5,
   "id": "d2a89f0e-d383-4b80-b1ca-44891599136e",
   "metadata": {},
   "outputs": [],
   "source": [
    "# Make a bmad beam via ParticleGroup\n",
    "# Note that these particles aim to follow the Bmad coordinate ( not at rest )\n",
    "\n",
    "Q = 13E-12     # Total charge\n",
    "Np = 13     # Number of macro particles\n",
    "data = {'x':np.array([0,-1E-3,1E-3, 0,0,0,0,0,0,0,0,0,0]),\n",
    "        'px':np.array([0,0,0,-1E-3,1E-3, 0,0,0,0,0,0,0,0]),\n",
    "        'y':np.array([0,0,0,0,0,-1E-3,1E-3, 0,0,0,0,0,0]),\n",
    "        'py':np.array([0,0,0,0,0,0,0,-1E-3,1E-3, 0,0,0,0]),\n",
    "        'z':np.zeros(Np),\n",
    "        'pz':np.array([0,0,0,0,0,0,0,0,0,0,0,-1E-3,1E-3]),\n",
    "        't': np.array([0,0,0,0,0,0,0,0,0,-1E-3,1E-3, 0,0]),\n",
    "        'status':np.ones(Np), \n",
    "        'weight':np.ones(Np)*Q/Np, \n",
    "        'species':'electron'}\n",
    "P = ParticleGroup(data=data)\n",
    "\n",
    "P.write_bmad('bmad/beam_13p_bmad.txt')\n",
    "#P.write_elegant('elegant/beam_13p_elegant.sdds')"
   ]
  },
  {
   "cell_type": "code",
   "execution_count": 6,
   "id": "751ae3f9-ab68-4ef9-becf-e34d85d054b1",
   "metadata": {},
   "outputs": [
    {
     "data": {
      "text/plain": [
       "[]"
      ]
     },
     "execution_count": 6,
     "metadata": {},
     "output_type": "execute_result"
    }
   ],
   "source": [
    "# Run Bmad (loading in the beam without tracking) to produce the corresponding beam file in hdf5 (with correct coordinate )\n",
    "# Load the hdf5 file into ParticleGroup again to produce the corresponding beam file for Elegant\n",
    "\n",
    "tao = Tao(f'-init ./bmad/tao.init -noplot')\n",
    "\n",
    "tao.cmd(\"beamon\") # No tracking is required here..."
   ]
  },
  {
   "cell_type": "code",
   "execution_count": 17,
   "id": "3318c4ef-2053-4ddf-9ab6-b7d60e939d05",
   "metadata": {},
   "outputs": [
    {
     "name": "stdout",
     "output_type": "stream",
     "text": [
      "-------------------------\n",
      "Tao> write beam beam0_13p.hdf5 -at BEGINNING   ! For elegant use \n",
      "[INFO] tao_write_cmd:\n",
      "    Written: beam0_13p.hdf5\n",
      "-------------------------\n",
      "Tao> \n",
      "-------------------------\n",
      "Tao> write beam ./bmad/beam_end_tao.hdf5 -at END   ! For analysis\n",
      "[INFO] tao_write_cmd:\n",
      "    Written: ./bmad/beam_end_tao.hdf5\n",
      "-------------------------\n",
      "Tao> \n"
     ]
    }
   ],
   "source": [
    "%%tao\n",
    "write beam beam0_13p.hdf5 -at BEGINNING   ! For elegant use \n",
    "\n",
    "write beam ./bmad/beam_end_tao.hdf5 -at END   ! For analysis"
   ]
  },
  {
   "cell_type": "code",
   "execution_count": 15,
   "id": "8a4c07b1-65bc-4fa9-8ab3-fa7e2b1a0c2d",
   "metadata": {},
   "outputs": [],
   "source": [
    "H5FILE = root_dir+'/beam0_13p.hdf5'\n",
    "P = ParticleGroup(H5FILE)\n",
    "P.write_elegant(root_dir + '/elegant/beam0_13p.sdds')"
   ]
  },
  {
   "cell_type": "markdown",
   "id": "3249ea76-5574-47c9-bdc0-2d696a34b8f6",
   "metadata": {},
   "source": [
    "# Tao"
   ]
  },
  {
   "cell_type": "code",
   "execution_count": 34,
   "id": "f1f8ca7b-8bcf-4cc4-9a52-8db8bb0f3822",
   "metadata": {},
   "outputs": [
    {
     "data": {
      "text/plain": [
       "array([9.92226266])"
      ]
     },
     "execution_count": 34,
     "metadata": {},
     "output_type": "execute_result"
    }
   ],
   "source": [
    "tao.lat_list('END', 'ele.a.beta')"
   ]
  },
  {
   "cell_type": "code",
   "execution_count": 35,
   "id": "492d92d0-5bbf-4c58-bcb4-4719e2799864",
   "metadata": {},
   "outputs": [
    {
     "data": {
      "text/plain": [
       "array([0.])"
      ]
     },
     "execution_count": 35,
     "metadata": {},
     "output_type": "execute_result"
    }
   ],
   "source": [
    "tao.lat_list('END', 'ele.a.eta')"
   ]
  },
  {
   "cell_type": "code",
   "execution_count": 36,
   "id": "efada64a-83c4-47df-9c12-0d8027e6dbe6",
   "metadata": {},
   "outputs": [],
   "source": [
    "def get_twiss(tao, ele):\n",
    "    t1 = tao.lat_list(ele, 'beta_a')[0]\n",
    "    t2 = tao.lat_list(ele, 'alpha_a')[0]\n",
    "    t3 = tao.lat_list(ele, 'beta_b')[0]\n",
    "    t4 = tao.lat_list(ele, 'alpha_b')[0]\n",
    "    t5 = tao.lat_list(ele, 'eta_x')[0]\n",
    "    t6 = tao.lat_list(ele, 'etap_x')[0]\n",
    "    t7 = tao.lat_list(ele, 'eta_y')[0]\n",
    "    t8 = tao.lat_list(ele, 'etap_y')[0]\n",
    "    return t1, t2, t3, t4, t5, t6, t7, t8"
   ]
  },
  {
   "cell_type": "code",
   "execution_count": 37,
   "id": "0e74cc04-bcff-4514-87bc-01ab5cd6fec8",
   "metadata": {},
   "outputs": [
    {
     "data": {
      "text/plain": [
       "(9.922262663518694,\n",
       " 1.589689616045681,\n",
       " 9.958118884693812,\n",
       " 0.39687469868158354,\n",
       " 0.0,\n",
       " 0.0,\n",
       " 0.0,\n",
       " 0.0)"
      ]
     },
     "execution_count": 37,
     "metadata": {},
     "output_type": "execute_result"
    }
   ],
   "source": [
    "get_twiss(tao, 'END')"
   ]
  },
  {
   "cell_type": "code",
   "execution_count": 19,
   "id": "209ed445-398e-42fd-bd65-ed145aba1d54",
   "metadata": {},
   "outputs": [],
   "source": [
    "H5FILE = root_dir+'/bmad/beam_end_tao.hdf5'\n",
    "P = ParticleGroup(H5FILE)"
   ]
  },
  {
   "cell_type": "code",
   "execution_count": 20,
   "id": "af5f204e-9afd-4271-b529-2d53ad645782",
   "metadata": {},
   "outputs": [
    {
     "data": {
      "text/plain": [
       "array([ 0.00000000e+00, -1.00090014e-03,  1.00090014e-03, -3.00090008e-05,\n",
       "        3.00090008e-05,  0.00000000e+00,  0.00000000e+00,  0.00000000e+00,\n",
       "        0.00000000e+00,  0.00000000e+00,  0.00000000e+00,  0.00000000e+00,\n",
       "        0.00000000e+00])"
      ]
     },
     "execution_count": 20,
     "metadata": {},
     "output_type": "execute_result"
    }
   ],
   "source": [
    "P.x"
   ]
  },
  {
   "cell_type": "code",
   "execution_count": null,
   "id": "4ae2340f-1731-4339-b43d-04134c23077e",
   "metadata": {},
   "outputs": [],
   "source": []
  },
  {
   "cell_type": "code",
   "execution_count": null,
   "id": "060ba16c-72e8-4bde-bf31-045dd3c07c25",
   "metadata": {},
   "outputs": [],
   "source": []
  },
  {
   "cell_type": "code",
   "execution_count": null,
   "id": "8e2d78fb-3eb3-4862-bacd-e6b742652971",
   "metadata": {},
   "outputs": [],
   "source": []
  },
  {
   "cell_type": "code",
   "execution_count": 13,
   "id": "1190340c-94eb-4a96-8f13-22085a6e76e5",
   "metadata": {},
   "outputs": [
    {
     "name": "stdout",
     "output_type": "stream",
     "text": [
      "-------------------------\n",
      "Tao> write beam beam0_13p.hdf5 -at BEGINNING\n",
      "[INFO] tao_write_cmd:\n",
      "    Written: beam0_13p.hdf5\n",
      "-------------------------\n",
      "Tao> \n"
     ]
    }
   ],
   "source": [
    "%%tao\n",
    "write beam beam0_13p.hdf5 -at BEGINNING"
   ]
  },
  {
   "cell_type": "code",
   "execution_count": 14,
   "id": "1bc376f8-b0a4-4ad8-a9f8-f9350fde8088",
   "metadata": {},
   "outputs": [
    {
     "name": "stdout",
     "output_type": "stream",
     "text": [
      "cmake(8):ERROR:105: Unable to locate a modulefile for 'cmake/3.18.2'\n",
      "/global/u2/w/wlou1991/bmad_vs_elegant_simple\n"
     ]
    }
   ],
   "source": [
    "!pwd"
   ]
  },
  {
   "cell_type": "code",
   "execution_count": 15,
   "id": "3bcad554-ce5a-4436-967f-31d181e69c07",
   "metadata": {},
   "outputs": [],
   "source": [
    "# Load\n",
    "#h5 = File(H5FILE, 'r')\n",
    "#ppaths = particle_paths(h5)\n",
    "#ph5 = h5[ppaths[0]]\n",
    "\n",
    "P = ParticleGroup(H5FILE)\n",
    "\n",
    "#P.write_elegant('beam_BEAM0_1001_nopz.sdds')\n",
    "#P.write_elegant(str(locname) + '.sdds')\n",
    "#P.write_elegant('beam_BEAM0_Np202_ZPZcross_XPX.sdds')\n",
    "#P.write_elegant('beam_BEAM0_Np202_XPX_100MeV.sdds')\n",
    "\n",
    "#.write_elegant('Glen_beam_Np1M.sdds')\n",
    "P.write_elegant('beam0_13p.sdds')"
   ]
  },
  {
   "cell_type": "code",
   "execution_count": 21,
   "id": "a704d6dd-1c14-4ada-9627-24b516a25ff3",
   "metadata": {},
   "outputs": [
    {
     "name": "stdout",
     "output_type": "stream",
     "text": [
      "-------------------------\n",
      "Tao> sho ele 1\n",
      "Element # 1\n",
      "Element Name: Q1\n",
      "Key: Quadrupole\n",
      "S_start, S:      0.000000,      0.030000\n",
      "Ref_time:  1.002001E-10\n",
      "\n",
      "Attribute values [Only non-zero values shown]:\n",
      "    1  L                           =  3.0000000E-02 m\n",
      "    4  K1                          =  2.0000000E+00 1/m^2    45  B1_GRADIENT                 =  6.6625662E-02 T/m\n",
      "   10  FRINGE_TYPE                 =  None (1)               11  FRINGE_AT                   =  Both_Ends (3)\n",
      "   13  SPIN_FRINGE_ON              =  T (1)\n",
      "   47  PTC_CANONICAL_COORDS        =  T (1)\n",
      "   50  DELTA_REF_TIME              =  1.0020014E-10 sec\n",
      "   53  P0C                         =  9.9869355E+06 eV           BETA                        =  9.9869355E-01\n",
      "   54  E_TOT                       =  1.0000000E+07 eV           GAMMA                       =  1.9569512E+01\n",
      "   65  INTEGRATOR_ORDER            = 2\n",
      "   67  DS_STEP                     =  1.0000000E-02 m        66  NUM_STEPS                   = 3\n",
      "   68  CSR_DS_STEP                 =  0.0000000E+00 m\n",
      "\n",
      "       TRACKING_METHOD              =  Bmad_Standard             APERTURE_AT                =  Exit_End\n",
      "       MAT6_CALC_METHOD             =  Bmad_Standard             APERTURE_TYPE              =  Rectangular\n",
      "       SPIN_TRACKING_METHOD         =  Tracking                  OFFSET_MOVES_APERTURE      =  F\n",
      "       PTC_INTEGRATION_TYPE         =  Matrix_Kick               SYMPLECTIFY                =  F\n",
      "       CSR_METHOD                   =  Off                       FIELD_MASTER               =  F\n",
      "       SPACE_CHARGE_METHOD          =  Off                       LONGITUDINAL ORIENTATION   =       1\n",
      "       FIELD_CALC                   =  Bmad_Standard\n",
      "\n",
      "Slave_status: Free\n",
      "\n",
      "Lord_status:  Not_a_Lord\n",
      "\n",
      "Twiss at end of element:\n",
      "                          A              B            Cbar                        C_mat\n",
      "  Beta (m)         9.92226266     9.95811888  |   0.00000000   0.00000000      0.00000000   0.00000000\n",
      "  Alpha            1.58968962     0.39687470  |   0.00000000   0.00000000      0.00000000   0.00000000\n",
      "  Gamma (1/m)      0.35547467     0.11623777  |   Gamma_c =   1.00000000       Mode_Flip = F\n",
      "  Phi (rad)        0.00301083     0.00300721            X              Y              Z\n",
      "  Eta (m)          0.00000000     0.00000000     0.00000000     0.00000000     0.00007834\n",
      "  Etap             0.00000000     0.00000000     0.00000000     0.00000000     0.00000000\n",
      "\n",
      "Orbit:  Positron   State: Alive\n",
      "         Position[mm] Momentum[mrad]        Spin   |\n",
      "  X:       0.00000000     0.00000000               | t_particle [sec]:        1.00200135E-10  E_tot: 1.00000E+07\n",
      "  Y:       0.00000000     0.00000000               | t_part-t_ref [sec]:      0.00000000E+00  PC:    9.98694E+06\n",
      "  Z:       0.00000000     0.00000000               | (t_ref-t_part)*Vel [m]:  0.00000000E+00  Beta:  0.998693547\n",
      "-------------------------\n",
      "Tao> \n"
     ]
    }
   ],
   "source": [
    "%%tao\n",
    "sho ele 1"
   ]
  },
  {
   "cell_type": "code",
   "execution_count": 20,
   "id": "cb485b40-69d3-4403-bb61-db84f8f1e6c7",
   "metadata": {},
   "outputs": [
    {
     "data": {
      "text/plain": [
       "9986955.99070008"
      ]
     },
     "execution_count": 20,
     "metadata": {},
     "output_type": "execute_result"
    }
   ],
   "source": [
    "1.954394518728e+01 * 0.511e6"
   ]
  },
  {
   "cell_type": "code",
   "execution_count": null,
   "id": "08b02003-e638-40b4-9f43-f4953748e357",
   "metadata": {},
   "outputs": [],
   "source": [
    "9.9869355E+06"
   ]
  }
 ],
 "metadata": {
  "kernelspec": {
   "display_name": "Lcls-live",
   "language": "python",
   "name": "lcls-live"
  },
  "language_info": {
   "codemirror_mode": {
    "name": "ipython",
    "version": 3
   },
   "file_extension": ".py",
   "mimetype": "text/x-python",
   "name": "python",
   "nbconvert_exporter": "python",
   "pygments_lexer": "ipython3",
   "version": "3.8.13"
  }
 },
 "nbformat": 4,
 "nbformat_minor": 5
}
