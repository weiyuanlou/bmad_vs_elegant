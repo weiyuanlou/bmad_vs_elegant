{
 "cells": [
  {
   "cell_type": "code",
   "execution_count": 1,
   "id": "5c61b053-2554-4871-8419-10b82a0167c1",
   "metadata": {},
   "outputs": [],
   "source": [
    "from pmd_beamphysics import ParticleGroup\n",
    "from pmd_beamphysics.interfaces.elegant import elegant_to_data\n",
    "from h5py import File\n",
    "\n",
    "\n",
    "import numpy as np\n",
    "\n",
    "from pytao import Tao\n",
    "\n",
    "import subprocess\n",
    "import os\n",
    "\n",
    "root_dir = os.getcwd()"
   ]
  },
  {
   "cell_type": "markdown",
   "id": "96c821b9-82b1-4185-b685-b24da0920f0f",
   "metadata": {},
   "source": [
    "## Helper functions"
   ]
  },
  {
   "cell_type": "code",
   "execution_count": 2,
   "id": "222e2ce6-0052-4a95-a2fa-8a634ad795d0",
   "metadata": {},
   "outputs": [],
   "source": [
    "# Make sure root_dir/code has been added to $PTHONPATH\n",
    "from parse_output import get_twiss_tao, get_twiss_elegant"
   ]
  },
  {
   "cell_type": "markdown",
   "id": "3249ea76-5574-47c9-bdc0-2d696a34b8f6",
   "metadata": {},
   "source": [
    "# Tao"
   ]
  },
  {
   "cell_type": "markdown",
   "id": "b2b581cc-d9c9-4127-9702-df1221cb3dfb",
   "metadata": {},
   "source": [
    "#### prepare bmad lattice file"
   ]
  },
  {
   "cell_type": "code",
   "execution_count": 64,
   "id": "3440961f-c4b0-4c7e-ae1d-9faaae492cb5",
   "metadata": {},
   "outputs": [],
   "source": [
    "quad_dict_bmad={'L':0.03, 'k1':2.0, 'offset':0.0}"
   ]
  },
  {
   "cell_type": "code",
   "execution_count": 65,
   "id": "a0a58cd6-5ad1-44f7-bd32-74ad0bc56462",
   "metadata": {},
   "outputs": [],
   "source": [
    "def write_bmad_lattice_file(ele_type, dict_bmad):\n",
    "    \n",
    "    out1 = f\"\"\"parameter[particle] = electron\n",
    "no_digested\n",
    "\n",
    "beginning[beta_a] = 10\n",
    "beginning[alpha_a] = 1\n",
    "beginning[beta_b] = 10\n",
    "beginning[alpha_b] = 1\n",
    "\n",
    "parameter[geometry] = open\n",
    "parameter[p0c] = 10e6\n",
    "\n",
    "ele1: {ele_type}\"\"\"\n",
    "    \n",
    "    out2 = \"\"\n",
    "    for key, value in dict_bmad.items():\n",
    "        out2 += f\",\\n{key} = {value}\"\n",
    "    \n",
    "    out3 = \"\"\"\\n\n",
    "lat: line = (ele1)\n",
    "\n",
    "use, lat\n",
    "    \"\"\"\n",
    "    \n",
    "    f = open(root_dir+\"/bmad/one_ele.bmad\", \"wt\")\n",
    "    f.write(out1)\n",
    "    f.write(out2)\n",
    "    f.write(out3)\n",
    "    f.close()\n",
    "    \n",
    "    return None\n",
    "    "
   ]
  },
  {
   "cell_type": "code",
   "execution_count": 66,
   "id": "89651690-45a7-4928-91c6-dc9702bd824b",
   "metadata": {},
   "outputs": [],
   "source": [
    "write_bmad_lattice_file('quad', quad_dict_bmad)"
   ]
  },
  {
   "cell_type": "markdown",
   "id": "d949b8cc-e049-400d-939b-b11d7e20c0c7",
   "metadata": {},
   "source": [
    "#### Prepare elegant lattice file"
   ]
  },
  {
   "cell_type": "code",
   "execution_count": 61,
   "id": "5054181a-a5ea-4813-b1f1-b891c58a2a73",
   "metadata": {},
   "outputs": [],
   "source": [
    "quad_dict_elegant={'L':0.03, 'K1':2.0}"
   ]
  },
  {
   "cell_type": "code",
   "execution_count": 62,
   "id": "2970652a-5fdc-4322-bbfe-28246e75f307",
   "metadata": {},
   "outputs": [],
   "source": [
    "def write_elegant_lattice(ele_type, dict_elegant):\n",
    "    \n",
    "    out1=f\"\"\"C: CHARGE,TOTAL= 13E-12\n",
    "    \n",
    "ELE1: {ele_type}\"\"\"\n",
    "\n",
    "    out2 =\"\"\n",
    "    for key, value in dict_elegant.items():\n",
    "        out2 += f\",\\n{key} = {value}\"\n",
    "\n",
    "    out3 = \"\"\"\\n\n",
    "BPM_END: WATCH,FILENAME=\"BPM_END.out\"\n",
    "\n",
    "MYLINE: LINE = (C, ELE1, BPM_END)\n",
    "    \"\"\"\n",
    "    \n",
    "    f = open(root_dir+\"/elegant/one_ele.lte\", \"wt\")\n",
    "    f.write(out1)\n",
    "    f.write(out2)\n",
    "    f.write(out3)\n",
    "    f.close()        \n",
    "\n",
    "    return None"
   ]
  },
  {
   "cell_type": "code",
   "execution_count": 63,
   "id": "fb975388-2bab-4de1-9c7d-d6f1c1a19d28",
   "metadata": {},
   "outputs": [],
   "source": [
    "write_elegant_lattice(\"QUAD\", quad_dict_elegant)"
   ]
  },
  {
   "cell_type": "markdown",
   "id": "95f4be92-6018-4f17-b289-b72a906c49dd",
   "metadata": {},
   "source": [
    "# run Tao (bmad)"
   ]
  },
  {
   "cell_type": "code",
   "execution_count": 6,
   "id": "71cdaf81-69be-4015-993b-3ee1c06dd8ac",
   "metadata": {},
   "outputs": [],
   "source": [
    "# This line can only be run ONCE\n",
    "tao = Tao(f'-init {root_dir}/bmad/tao.init -noplot')"
   ]
  },
  {
   "cell_type": "code",
   "execution_count": 7,
   "id": "be3b3077-1ad8-495c-8ffc-711324c79515",
   "metadata": {},
   "outputs": [],
   "source": [
    "tao.cmd('beamon')\n",
    "tao.cmd('write beam ./bmad/beam_end_tao.hdf5 -at END');  # For analysis"
   ]
  },
  {
   "cell_type": "markdown",
   "id": "e91734c0-fdad-4cdf-8a57-903081789509",
   "metadata": {},
   "source": [
    "#### collect Bmad beam and Twiss"
   ]
  },
  {
   "cell_type": "code",
   "execution_count": 8,
   "id": "209ed445-398e-42fd-bd65-ed145aba1d54",
   "metadata": {},
   "outputs": [],
   "source": [
    "H5FILE = root_dir+'/bmad/beam_end_tao.hdf5'\n",
    "Ptao = ParticleGroup(H5FILE)\n",
    "\n",
    "twiss_tao = get_twiss_tao(tao, 'END')"
   ]
  },
  {
   "cell_type": "markdown",
   "id": "1e2b052d-caaf-4cc2-8cc0-cf6df9fd240d",
   "metadata": {},
   "source": [
    "# run Elegant"
   ]
  },
  {
   "cell_type": "code",
   "execution_count": 50,
   "id": "e8ea1461-ef3f-4618-b34e-7c27395003af",
   "metadata": {},
   "outputs": [
    {
     "name": "stdout",
     "output_type": "stream",
     "text": [
      "/Users/wlou/Code/elegant/bin/elegant\n"
     ]
    }
   ],
   "source": [
    "# Make sure elegant has been installed and located\n",
    "!which elegant"
   ]
  },
  {
   "cell_type": "code",
   "execution_count": 51,
   "id": "4ae2340f-1731-4339-b43d-04134c23077e",
   "metadata": {},
   "outputs": [
    {
     "data": {
      "text/plain": [
       "CompletedProcess(args=['elegant', 'one_ele.ele'], returncode=0)"
      ]
     },
     "execution_count": 51,
     "metadata": {},
     "output_type": "execute_result"
    }
   ],
   "source": [
    "os.chdir(root_dir+'/elegant')\n",
    "subprocess.run([\"elegant\", \"one_ele.ele\"], stdout=subprocess.DEVNULL)\n",
    "#os.chdir(root_dir)"
   ]
  },
  {
   "cell_type": "markdown",
   "id": "85d995a3-ffd9-4b22-a350-3eea1b8ddb8f",
   "metadata": {},
   "source": [
    "#### collect Elegant beam and Twiss"
   ]
  },
  {
   "cell_type": "code",
   "execution_count": 52,
   "id": "060ba16c-72e8-4bde-bf31-045dd3c07c25",
   "metadata": {},
   "outputs": [],
   "source": [
    "OUTFILE = root_dir+'/elegant/BPM_END.out'\n",
    "DAT = elegant_to_data(OUTFILE, charge = 13e-12)\n",
    "Pele = ParticleGroup(data=DAT)\n",
    "\n",
    "elegant_twiss_file_name = root_dir + '/elegant/one_ele.twi'\n",
    "twiss_elegant = get_twiss_elegant(elegant_twiss_file_name)"
   ]
  },
  {
   "cell_type": "markdown",
   "id": "ba24effa-2b53-4f6d-827f-151140a07565",
   "metadata": {},
   "source": [
    "# Compare beams and Twiss from Bmad and elegant"
   ]
  },
  {
   "cell_type": "code",
   "execution_count": 53,
   "id": "241d4940-b360-4efc-99ac-a5a85dbe240f",
   "metadata": {},
   "outputs": [
    {
     "data": {
      "text/plain": [
       "array([ 0.07773734, -0.58968962,  0.04188112,  0.6031253 ,  0.        ,\n",
       "        0.        ,  0.        ,  0.        ])"
      ]
     },
     "execution_count": 53,
     "metadata": {},
     "output_type": "execute_result"
    }
   ],
   "source": [
    "twiss_elegant - twiss_tao"
   ]
  },
  {
   "cell_type": "code",
   "execution_count": 46,
   "id": "ef815399-8601-43bd-9483-7f25a2625935",
   "metadata": {},
   "outputs": [
    {
     "data": {
      "text/plain": [
       "array([9.92226266, 1.58968962, 9.95811888, 0.3968747 , 0.        ,\n",
       "       0.        , 0.        , 0.        ])"
      ]
     },
     "execution_count": 46,
     "metadata": {},
     "output_type": "execute_result"
    }
   ],
   "source": [
    "twiss_tao"
   ]
  },
  {
   "cell_type": "code",
   "execution_count": 47,
   "id": "74b8f61f-9e3c-4e97-93a4-ca7331557368",
   "metadata": {},
   "outputs": [
    {
     "data": {
      "text/plain": [
       "array([10.,  1., 10.,  1.,  0.,  0.,  0.,  0.])"
      ]
     },
     "execution_count": 47,
     "metadata": {},
     "output_type": "execute_result"
    }
   ],
   "source": [
    "twiss_elegant"
   ]
  },
  {
   "cell_type": "code",
   "execution_count": 20,
   "id": "3d54fc1e-fcdf-4821-b2bf-2935a30bc0f5",
   "metadata": {},
   "outputs": [],
   "source": [
    "def compare_twiss(twiss_tao, twiss_elegant, tol=1e-6):\n",
    "    print(\"Agree in all 8 Twiss...?\", np.all(abs(twiss_tao - twiss_elegant) < tol))\n",
    "    return None"
   ]
  },
  {
   "cell_type": "code",
   "execution_count": 18,
   "id": "251ae199-582f-48b8-8524-bab203a0f73b",
   "metadata": {},
   "outputs": [
    {
     "name": "stdout",
     "output_type": "stream",
     "text": [
      "Agree in all 8 Twiss...? True\n"
     ]
    }
   ],
   "source": [
    "compare_twiss(twiss_tao, twiss_elegant, 1e-6)"
   ]
  },
  {
   "cell_type": "code",
   "execution_count": null,
   "id": "1644ee69-4949-47ea-aea1-52dce54935ed",
   "metadata": {},
   "outputs": [],
   "source": []
  },
  {
   "cell_type": "code",
   "execution_count": 54,
   "id": "8e2d78fb-3eb3-4862-bacd-e6b742652971",
   "metadata": {},
   "outputs": [],
   "source": [
    "def compare_two_P(Ptao, Pele, tol=1e-9):\n",
    "    \n",
    "    assert Ptao.n_particle == Pele.n_particle, \"The two particle groups need to have the same number of particles\"\n",
    "    \n",
    "    print(f\"Comparing {Ptao.n_particle} particles...\")\n",
    "    \n",
    "    print(\"Agree in all x...?\", np.all(abs(Ptao.x - Pele.x) < tol))\n",
    "    print(\"Agree in all xp...?\", np.all(abs(Ptao.xp - Pele.xp) < tol))\n",
    "    print(\"Agree in all y...?\", np.all(abs(Ptao.y - Pele.y) < tol))\n",
    "    print(\"Agree in all yp...?\", np.all(abs(Ptao.yp - Pele.yp) < tol))\n",
    "    print(\"Agree in all t...?\", np.all(abs(Ptao.t - Pele.t) < tol))\n",
    "    \n",
    "    print(\"Agree in all delta (E0=10MeV)?\", np.all(abs(Ptao.energy - Pele.energy)/10E6 < tol))\n",
    "    "
   ]
  },
  {
   "cell_type": "code",
   "execution_count": 55,
   "id": "df579fbd-10da-4619-8594-15b6e5f4a288",
   "metadata": {},
   "outputs": [
    {
     "name": "stdout",
     "output_type": "stream",
     "text": [
      "Comparing 13 particles...\n",
      "Agree in all x...? False\n",
      "Agree in all xp...? False\n",
      "Agree in all y...? False\n",
      "Agree in all yp...? False\n",
      "Agree in all t...? True\n",
      "Agree in all delta (E0=10MeV)? True\n"
     ]
    }
   ],
   "source": [
    "compare_two_P(Ptao, Pele, tol=1e-9)"
   ]
  },
  {
   "cell_type": "code",
   "execution_count": 56,
   "id": "bc54530b-89b0-49de-8fd5-a9329ccd2e9e",
   "metadata": {},
   "outputs": [
    {
     "data": {
      "text/plain": [
       "array([ 0.   , -0.001,  0.001,  0.   ,  0.   ,  0.   ,  0.   ,  0.   ,\n",
       "        0.   ,  0.   ,  0.   ,  0.   ,  0.   ])"
      ]
     },
     "execution_count": 56,
     "metadata": {},
     "output_type": "execute_result"
    }
   ],
   "source": [
    "Pele.x"
   ]
  },
  {
   "cell_type": "code",
   "execution_count": null,
   "id": "48145e55-b11e-4a12-87d7-8b7ecb8d9a86",
   "metadata": {},
   "outputs": [],
   "source": []
  },
  {
   "cell_type": "code",
   "execution_count": null,
   "id": "1e08af1b-486b-45f5-ab87-773014a872f0",
   "metadata": {},
   "outputs": [],
   "source": []
  },
  {
   "cell_type": "code",
   "execution_count": 13,
   "id": "1190340c-94eb-4a96-8f13-22085a6e76e5",
   "metadata": {},
   "outputs": [
    {
     "name": "stdout",
     "output_type": "stream",
     "text": [
      "-------------------------\n",
      "Tao> write beam beam0_13p.hdf5 -at BEGINNING\n",
      "[INFO] tao_write_cmd:\n",
      "    Written: beam0_13p.hdf5\n",
      "-------------------------\n",
      "Tao> \n"
     ]
    }
   ],
   "source": [
    "%%tao\n",
    "write beam beam0_13p.hdf5 -at BEGINNING"
   ]
  },
  {
   "cell_type": "code",
   "execution_count": 14,
   "id": "1bc376f8-b0a4-4ad8-a9f8-f9350fde8088",
   "metadata": {},
   "outputs": [
    {
     "name": "stdout",
     "output_type": "stream",
     "text": [
      "cmake(8):ERROR:105: Unable to locate a modulefile for 'cmake/3.18.2'\n",
      "/global/u2/w/wlou1991/bmad_vs_elegant_simple\n"
     ]
    }
   ],
   "source": [
    "!pwd"
   ]
  }
 ],
 "metadata": {
  "kernelspec": {
   "display_name": "Lcls-live",
   "language": "python",
   "name": "lcls-live"
  },
  "language_info": {
   "codemirror_mode": {
    "name": "ipython",
    "version": 3
   },
   "file_extension": ".py",
   "mimetype": "text/x-python",
   "name": "python",
   "nbconvert_exporter": "python",
   "pygments_lexer": "ipython3",
   "version": "3.8.13"
  }
 },
 "nbformat": 4,
 "nbformat_minor": 5
}
