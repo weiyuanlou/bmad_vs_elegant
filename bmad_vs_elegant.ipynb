{
 "cells": [
  {
   "cell_type": "code",
   "execution_count": 1,
   "id": "33a99842-042e-4fd0-afdc-5f6451414623",
   "metadata": {},
   "outputs": [],
   "source": [
    "from pytao import Tao"
   ]
  },
  {
   "cell_type": "code",
   "execution_count": 2,
   "id": "36aa2eca-b47c-45da-8994-13a017e750e5",
   "metadata": {},
   "outputs": [],
   "source": [
    "tao = Tao(f'-init /global/homes/w/wlou1991/cfs/GitHub/lcls-lattice/bmad/models/cu_spec/tao.init -noplot')"
   ]
  },
  {
   "cell_type": "code",
   "execution_count": 6,
   "id": "8213a7e3-f979-4ff3-b54c-c62c5945a64a",
   "metadata": {},
   "outputs": [
    {
     "name": "stdout",
     "output_type": "stream",
     "text": [
      "-------------------------\n",
      "Tao> sho lat * -at alias\n",
      "# Values shown are for the Exit End of each Element:\n",
      "# Index  name      key                      s       l  alias\n",
      "      0  BEGINNING Beginning_Ele        0.000     ---\n",
      "      1  DL00      Drift               -0.869  -0.869\n",
      "      2  LOADLOCK  Drift                0.000   0.869\n",
      "      3  BEGGUN    Marker               0.000   0.000\n",
      "      4  SOL1BK    Solenoid             0.000   0.000  SOLN:IN20:111\n",
      "      5  DBMARK80  Marker               0.000   0.000\n",
      "      6  CATHODE   Instrument           0.000   0.000  CATH:IN20:111\n",
      "      7  DL01A     Drift                0.096   0.096\n",
      "      8  SOL1#1    Solenoid             0.196   0.100\n",
      "      9  YC00      Vkicker              0.196   0.000  YCOR:IN20:122\n",
      "     10  XC00      Hkicker              0.196   0.000  XCOR:IN20:121\n",
      "     11  SQ01      Multipole            0.196   0.000  QUAD:IN20:122\n",
      "     12  CQ01      Multipole            0.196   0.000  QUAD:IN20:121\n",
      "     13  SOL1#2    Solenoid             0.296   0.100\n",
      "     14  DL01A1    Drift                0.375   0.079\n",
      "     15  VV01      Marker               0.375   0.000\n",
      "     16  DL01A2    Drift                0.491   0.116\n",
      "     17  AM00      Instrument           0.491   0.000  MIRR:IN20:181\n",
      "     18  DL01A3    Drift                0.595   0.105\n",
      "     19  AM01      Instrument           0.595   0.000  MIRR:IN20:191\n",
      "     20  DL01A4    Drift                0.614   0.018\n",
      "     21  YAG01     Monitor              0.614   0.000  YAGS:IN20:211\n",
      "     22  DL01A5    Drift                0.625   0.011\n",
      "     23  FC01      Instrument           0.625   0.000  FARC:IN20:212\n",
      "     24  DL01B     Drift                0.707   0.083\n",
      "     25  IM01      Marker               0.707   0.000  TORO:IN20:215\n",
      "     26  DL01C     Drift                0.834   0.127\n",
      "     27  XC01      Hkicker              0.834   0.000  XCOR:IN20:221\n",
      "     28  YC01      Vkicker              0.834   0.000  YCOR:IN20:222\n",
      "     29  DL01H     Drift                0.893   0.058\n",
      "     30  BPM2      Monitor              0.893   0.000  BPMS:IN20:221\n",
      "     31  DL01D     Drift                0.978   0.085\n",
      "     32  DBMARK81  Marker               0.978   0.000\n",
      "     33  ENDGUN    Marker               0.978   0.000\n",
      "     34  BEGL0     Marker               0.978   0.000\n",
      "     35  DBXG      Drift                1.110   0.133\n",
      "     36  DL01E     Drift                1.217   0.106\n",
      "     37  BPM3      Monitor              1.217   0.000  BPMS:IN20:235\n",
      "     38  DL01F     Drift                1.359   0.142\n",
      "     39  CR01      Instrument           1.359   0.000  CRAD:IN20:237\n",
      "     40  DL01F2    Drift                1.388   0.029\n",
      "     41  YAG02     Monitor              1.388   0.000  YAGS:IN20:241\n",
      "     42  DL01G     Drift                1.459   0.071\n",
      "     43  ZLIN00    Marker               1.459   0.000\n",
      "     44  L0A#1     Lcavity              1.518   0.059\n",
      "     45  DLFDA     Marker               1.518   0.000\n",
      "     46  L0A#2     Lcavity              1.717   0.199\n",
      "     47  SOL2      Solenoid             1.717   0.000  SOLN:IN20:311\n",
      "     48  L0A#3     Lcavity              2.366   0.649\n",
      "     49  YC02      Vkicker              2.366   0.000  YCOR:IN20:312\n",
      "     50  XC02      Hkicker              2.366   0.000  XCOR:IN20:311\n",
      "     51  L0A#4     Lcavity              3.007   0.640\n",
      "     52  L0AMID    Marker               3.007   0.000\n",
      "     53  L0A#5     Lcavity              4.158   1.152\n",
      "     54  YC03      Vkicker              4.158   0.000  YCOR:IN20:342\n",
      "     55  XC03      Hkicker              4.158   0.000  XCOR:IN20:341\n",
      "     56  L0A#6     Lcavity              4.493   0.335\n",
      "     57  OUTCPA    Marker               4.493   0.000\n",
      "     58  L0A#7     Lcavity              4.554   0.061\n",
      "     59  L0AWAKE   Marker               4.554   0.000\n",
      "     60  L0BBEG    Marker               4.554   0.000\n",
      "     61  DL02A1    Drift                4.615   0.060\n",
      "     62  YAG03     Monitor              4.615   0.000  YAGS:IN20:351\n",
      "     63  DL02A2    Drift                4.727   0.113\n",
      "     64  DL02A3    Drift                4.801   0.074\n",
      "     65  QA01      Quadrupole           4.909   0.108  QUAD:IN20:361\n",
      "     66  DL02B1    Drift                5.003   0.094\n",
      "     67  PH01      Instrument           5.003   0.000  PCAV:IN20:365\n",
      "     68  DL02B2    Drift                5.129   0.126\n",
      "     69  QA02#1    Quadrupole           5.183   0.054\n",
      "     70  BPM5      Monitor              5.183   0.000  BPMS:IN20:371\n",
      "     71  QA02#2    Quadrupole           5.237   0.054\n",
      "     72  DL02C     Drift                5.303   0.066\n",
      "     73  L0B#1     Lcavity              5.362   0.059\n",
      "     74  DLFDB     Marker               5.362   0.000\n",
      "     75  L0B#2     Lcavity              5.699   0.337\n",
      "     76  YC04      Vkicker              5.699   0.000  YCOR:IN20:382\n",
      "     77  XC04      Hkicker              5.699   0.000  XCOR:IN20:381\n",
      "     78  L0B#3     Lcavity              6.851   1.152\n",
      "     79  L0BMID    Marker               6.851   0.000\n",
      "     80  L0B#4     Lcavity              8.002   1.152\n",
      "     81  YC05      Vkicker              8.002   0.000  YCOR:IN20:412\n",
      "     82  XC05      Hkicker              8.002   0.000  XCOR:IN20:411\n",
      "     83  L0B#5     Lcavity              8.338   0.335\n",
      "     84  OUTCPB    Marker               8.338   0.000\n",
      "     85  L0B#6     Lcavity              8.398   0.061\n",
      "     86  ENDL0     Marker               8.398   0.000\n",
      "     87  BEGDL1_1  Marker               8.398   0.000\n",
      "     88  EMAT      Marker               8.398   0.000\n",
      "     89  DE00      Drift                8.423   0.025\n",
      "     90  DE00A     Drift                8.440   0.017\n",
      "     91  QE01#1    Quadrupole           8.494   0.054\n",
      "     92  BPM6      Monitor              8.494   0.000  BPMS:IN20:425\n",
      "     93  QE01#2    Quadrupole           8.548   0.054\n",
      "     94  DE01A     Drift                8.624   0.076\n",
      "     95  IM02      Marker               8.624   0.000  TORO:IN20:431\n",
      "     96  DE01B     Drift                8.747   0.122\n",
      "     97  VV02      Marker               8.747   0.000\n",
      "     98  DE01C     Drift                8.842   0.095\n",
      "     99  QE02      Quadrupole           8.950   0.108  QUAD:IN20:441\n",
      "    100  DH00      Drift                9.077   0.127\n",
      "    101  LHBEG     Marker               9.077   0.000\n",
      "    102  BXH1      Sbend                9.202   0.125  BEND:IN20:451\n",
      "    103  DH01      Drift                9.343   0.142\n",
      "    104  BXH2      Sbend                9.468   0.125  BEND:IN20:461\n",
      "    105  DH02A     Drift                9.528   0.060\n",
      "    106  OTRH1     Monitor              9.528   0.000  OTRS:IN20:465\n",
      "    107  DH03A     Drift                9.604   0.076\n",
      "    108  LH_UND#1  Wiggler              9.874   0.270\n",
      "    109  HTRUND    Instrument           9.874   0.000  HTR:IN20:467\n",
      "    110  LH_UND#2  Wiggler             10.144   0.270\n",
      "    111  DH03B     Drift               10.211   0.067\n",
      "    112  OTRH2     Monitor             10.211   0.000  OTRS:IN20:471\n",
      "    113  DH02B     Drift               10.299   0.088\n",
      "    114  BXH3      Sbend               10.424   0.125  BEND:IN20:475\n",
      "    115  DH01      Drift               10.566   0.142\n",
      "    116  BXH4      Sbend               10.691   0.125  BEND:IN20:481\n",
      "    117  LHEND     Marker              10.691   0.000\n",
      "    118  DH06      Drift               10.813   0.123\n",
      "    119  TCAV0#1   Lcavity             11.147   0.334\n",
      "    120  YC06      Vkicker             11.147   0.000  YCOR:IN20:492\n",
      "    121  XC06      Hkicker             11.147   0.000  XCOR:IN20:491\n",
      "    122  TCAV0#2   Lcavity             11.482   0.334\n",
      "    123  DE02      Drift               11.517   0.036\n",
      "    124  QE03#1    Quadrupole          11.571   0.054\n",
      "    125  BPM8      Monitor             11.571   0.000  BPMS:IN20:511\n",
      "    126  QE03#2    Quadrupole          11.625   0.054\n",
      "    127  DE03A     Drift               11.740   0.114\n",
      "    128  DE03B     Drift               11.787   0.048\n",
      "    129  XC07      Hkicker             11.787   0.000  XCOR:IN20:521\n",
      "    130  YC07      Vkicker             11.787   0.000  YCOR:IN20:522\n",
      "    131  DE03C     Drift               11.924   0.136\n",
      "    132  QE04#1    Quadrupole          11.978   0.054\n",
      "    133  BPM9      Monitor             11.978   0.000  BPMS:IN20:525\n",
      "    134  QE04#2    Quadrupole          12.032   0.054\n",
      "    135  DE04      Drift               12.175   0.144\n",
      "    136  WS01      Marker              12.175   0.000  WIRE:IN20:531\n",
      "    137  DE05      Drift               12.327   0.152\n",
      "    138  OTR1      Monitor             12.327   0.000  OTRS:IN20:541\n",
      "    139  DE05C     Drift               12.432   0.104\n",
      "    140  VV03      Marker              12.432   0.000\n",
      "    141  DE06A     Drift               13.841   1.409\n",
      "    142  RST1      Instrument          13.841   0.000  STPR:IN20:551\n",
      "    143  DE06B     Drift               14.089   0.248\n",
      "    144  WS02      Marker              14.089   0.000  WIRE:IN20:561\n",
      "    145  DE05A     Drift               14.165   0.076\n",
      "    146  MRK0      Marker              14.165   0.000\n",
      "    147  DE05A     Drift               14.241   0.076\n",
      "    148  OTR2      Monitor             14.241   0.000  OTRS:IN20:571\n",
      "    149  DE06D     Drift               14.405   0.164\n",
      "    150  BPM10     Monitor             14.405   0.000  BPMS:IN20:581\n",
      "    151  DE06E     Drift               16.003   1.598\n",
      "    152  WS03      Marker              16.003   0.000  WIRE:IN20:611\n",
      "    153  DE05      Drift               16.155   0.152\n",
      "    154  OTR3      Monitor             16.155   0.000  OTRS:IN20:621\n",
      "    155  DE07      Drift               16.306   0.151\n",
      "    156  QM01#1    Quadrupole          16.360   0.054\n",
      "    157  BPM11     Monitor             16.360   0.000  BPMS:IN20:631\n",
      "    158  QM01#2    Quadrupole          16.414   0.054\n",
      "    159  DE08      Drift               16.561   0.148\n",
      "    160  XC08      Hkicker             16.561   0.000  XCOR:IN20:641\n",
      "    161  YC08      Vkicker             16.561   0.000  YCOR:IN20:642\n",
      "    162  DE08A     Drift               16.745   0.183\n",
      "    163  VV04      Marker              16.745   0.000\n",
      "    164  DE08B     Drift               16.861   0.117\n",
      "    165  QM02#1    Quadrupole          16.915   0.054\n",
      "    166  BPM12     Monitor             16.915   0.000  BPMS:IN20:651\n",
      "    167  QM02#2    Quadrupole          16.969   0.054\n",
      "    168  DE09      Drift               17.193   0.223\n",
      "    169  DBMARK82  Marker              17.193   0.000\n",
      "    170  ENDDL1_1  Marker              17.193   0.000\n",
      "    171  BEGSPEC   Marker              17.193   0.000\n",
      "    172  DBX01A    Drift               17.294   0.102\n",
      "    173  DBX01B    Drift               17.396   0.102\n",
      "    174  DS0       Drift               17.954   0.558\n",
      "    175  XCS1      Hkicker             17.954   0.000  XCOR:IN20:911\n",
      "    176  YCS1      Vkicker             17.954   0.000  YCOR:IN20:912\n",
      "    177  DS0A      Drift               18.124   0.169\n",
      "    178  DS0B      Drift               18.354   0.231\n",
      "    179  DS1A      Drift               18.443   0.089\n",
      "    180  VVS1      Marker              18.443   0.000\n",
      "    181  DS1B      Drift               18.588   0.145\n",
      "    182  YAGS1     Monitor             18.588   0.000  YAGS:IN20:921\n",
      "    183  DS1C      Drift               18.760   0.172\n",
      "    184  BPMS1     Monitor             18.760   0.000  BPMS:IN20:925\n",
      "    185  DS1D      Drift               19.012   0.252\n",
      "    186  BXS       Sbend               19.556   0.543  BEND:IN20:931\n",
      "    187  DS2       Drift               20.034   0.478\n",
      "    188  QS01#1    Quadrupole          20.088   0.054\n",
      "    189  BPMS2     Monitor             20.088   0.000  BPMS:IN20:945\n",
      "    190  QS01#2    Quadrupole          20.142   0.054\n",
      "    191  DS3A      Drift               20.341   0.200\n",
      "    192  XCS2      Hkicker             20.341   0.000  XCOR:IN20:951\n",
      "    193  YCS2      Vkicker             20.341   0.000  YCOR:IN20:952\n",
      "    194  DS3B      Drift               20.542   0.200\n",
      "    195  QS02      Quadrupole          20.650   0.108  QUAD:IN20:961\n",
      "    196  DS4       Drift               20.937   0.287\n",
      "    197  IMS1      Marker              20.937   0.000  TORO:IN20:971\n",
      "    198  DS6A      Drift               21.195   0.258\n",
      "    199  BPMS3     Monitor             21.195   0.000  BPMS:IN20:981\n",
      "    200  DS6B      Drift               21.414   0.219\n",
      "    201  YAGS2     Monitor             21.414   0.000  YAGS:IN20:995\n",
      "    202  DS7       Drift               21.782   0.368\n",
      "    203  OTRS1     Monitor             21.782   0.000  OTRS:IN20:997\n",
      "    204  DS8       Drift               22.000   0.218\n",
      "    205  DS9       Drift               22.338   0.338\n",
      "    206  SDMP      Instrument          22.338   0.000  DUMP:IN20:999\n",
      "    207  DBMARK98  Marker              22.338   0.000\n",
      "    208  ENDSPEC   Marker              22.338   0.000\n",
      "    209  END       Marker              22.338   0.000\n",
      "Lord Elements:\n",
      "    210  SOL1      Solenoid             0.296   0.200  SOLN:IN20:121\n",
      "    211  QS01      Quadrupole          20.142   0.108  QUAD:IN20:941\n",
      "    212  LH_UND    Wiggler             10.144   0.540  USEG:IN20:466\n",
      "    213  L0A       Lcavity              4.554   3.095\n",
      "    214  L0B       Lcavity              8.398   3.095\n",
      "    215  TCAV0     Lcavity             11.482   0.668  TCAV:IN20:490\n",
      "    216  QA02      Quadrupole           5.237   0.108  QUAD:IN20:371\n",
      "    217  QE01      Quadrupole           8.548   0.108  QUAD:IN20:425\n",
      "    218  QE03      Quadrupole          11.625   0.108  QUAD:IN20:511\n",
      "    219  QE04      Quadrupole          12.032   0.108  QUAD:IN20:525\n",
      "    220  QM01      Quadrupole          16.414   0.108  QUAD:IN20:631\n",
      "    221  QM02      Quadrupole          16.969   0.108  QUAD:IN20:651\n",
      "# Index  name      key                      s       l  alias\n",
      "# Values shown are for the Exit End of each Element:\n",
      "-------------------------\n",
      "Tao> \n"
     ]
    }
   ],
   "source": [
    "%%tao\n",
    "sho lat * -at alias"
   ]
  },
  {
   "cell_type": "code",
   "execution_count": 5,
   "id": "9a4186e6-7bd1-490a-92a6-34946c06df47",
   "metadata": {},
   "outputs": [
    {
     "name": "stdout",
     "output_type": "stream",
     "text": [
      "-------------------------\n",
      "Tao> sho ele QE04\n",
      "Element # 219\n",
      "Element Name: QE04\n",
      "Element Type:  \"ETA\"\n",
      "Element Alias:  \"QUAD:IN20:525\"\n",
      "Key: Quadrupole\n",
      "S_start, S:     11.923644,     12.031644\n",
      "Ref_time:  4.015484E-08\n",
      "\n",
      "Attribute values [Only non-zero values shown]:\n",
      "    1  L                           =  1.0800000E-01 m\n",
      "    4  K1                          = -6.7899098E+00 1/m^2    45  B1_GRADIENT                 =  3.0575527E+00 T/m\n",
      "   10  FRINGE_TYPE                 =  None (1)               11  FRINGE_AT                   =  Both_Ends (3)\n",
      "   13  SPIN_FRINGE_ON              =  T (1)\n",
      "   47  PTC_CANONICAL_COORDS        =  T (1)\n",
      "   50  DELTA_REF_TIME              =  3.6025180E-10 sec\n",
      "   53  P0C                         =  1.3499903E+08 eV           BETA                        =  9.9999284E-01\n",
      "   54  E_TOT                       =  1.3500000E+08 eV           GAMMA                       =  2.6418841E+02\n",
      "   65  INTEGRATOR_ORDER            = 2\n",
      "   67  DS_STEP                     =  3.0000000E-03 m        66  NUM_STEPS                   = 36\n",
      "   68  CSR_DS_STEP                 =  0.0000000E+00 m\n",
      "   71  X1_LIMIT                    =  1.6000000E-02 m        72  X2_LIMIT                    =  1.6000000E-02 m\n",
      "   73  Y1_LIMIT                    =  1.6000000E-02 m        74  Y2_LIMIT                    =  1.6000000E-02 m\n",
      "\n",
      "       TRACKING_METHOD              =  Bmad_Standard             APERTURE_AT                =  Exit_End\n",
      "       MAT6_CALC_METHOD             =  Bmad_Standard             APERTURE_TYPE              =  Rectangular\n",
      "       SPIN_TRACKING_METHOD         =  Tracking                  OFFSET_MOVES_APERTURE      =  F\n",
      "       PTC_INTEGRATION_TYPE         =  Matrix_Kick               SYMPLECTIFY                =  F\n",
      "       CSR_METHOD                   =  Off                       FIELD_MASTER               =  F\n",
      "       SPACE_CHARGE_METHOD          =  Off                       LONGITUDINAL ORIENTATION   =       1\n",
      "       FIELD_CALC                   =  Bmad_Standard\n",
      "\n",
      "Slave_status: Free\n",
      "\n",
      "Lord_status:  Super_Lord\n",
      "Slaves:\n",
      "   Index   Name        Type                     S\n",
      "     132   QE04#1      Quadrupole              11.977644\n",
      "     134   QE04#2      Quadrupole              12.031644\n",
      "\n",
      "Twiss at end of element:\n",
      "                          A              B            Cbar                        C_mat\n",
      "  Beta (m)         5.21466964     5.20970744  |   0.00000000   0.00000000      0.00000000   0.00000000\n",
      "  Alpha            1.92536234     1.92449896  |   0.00000000   0.00000000      0.00000000   0.00000000\n",
      "  Gamma (1/m)      0.90264973     0.90287148  |   Gamma_c =   1.00000000       Mode_Flip = F\n",
      "  Phi (rad)        5.96457407     3.59298203            X              Y              Z\n",
      "  Eta (m)         -0.00000000     0.00000000    -0.00000000     0.00000000     0.38403456\n",
      "  Etap             0.00000000     0.00000000     0.00000000     0.00000000     0.00000000\n",
      "\n",
      "Orbit:  Electron   State: Alive\n",
      "         Position[mm] Momentum[mrad]        Spin   |\n",
      "  X:       0.00000000     0.00000000               | t_particle [sec]:        4.01548438E-08  E_tot: 1.35000E+08\n",
      "  Y:       0.00000000     0.00000000               | t_part-t_ref [sec]:     -6.61744490E-24  PC:    1.34999E+08\n",
      "  Z:      -0.00000000     0.00000000               | (t_ref-t_part)*Vel [m]:  1.98384586E-15  Beta:  0.999992836\n",
      "-------------------------\n",
      "Tao> \n"
     ]
    }
   ],
   "source": [
    "%%tao\n",
    "sho ele QE04"
   ]
  },
  {
   "cell_type": "code",
   "execution_count": 12,
   "id": "5c61b053-2554-4871-8419-10b82a0167c1",
   "metadata": {},
   "outputs": [],
   "source": [
    "from pmd_beamphysics import ParticleGroup, particle_paths\n",
    "from pmd_beamphysics.interfaces.elegant import elegant_to_data\n",
    "from h5py import File\n",
    "\n",
    "import os\n",
    "import numpy as np\n",
    "\n",
    "from pytao import Tao\n",
    "\n",
    "root_dir = os.getcwd()"
   ]
  },
  {
   "cell_type": "markdown",
   "id": "8bfbb9b0-b54e-4ec5-bdbf-3557e982c79e",
   "metadata": {},
   "source": [
    "# Tao"
   ]
  },
  {
   "cell_type": "code",
   "execution_count": 5,
   "id": "d2a89f0e-d383-4b80-b1ca-44891599136e",
   "metadata": {},
   "outputs": [],
   "source": [
    "# Make a bmad beam via ParticleGroup\n",
    "# Note that these particles aim to follow the Bmad coordinate ( not at rest )\n",
    "\n",
    "Q = 13E-12     # Total charge\n",
    "Np = 13     # Number of macro particles\n",
    "data = {'x':np.array([0,-1E-3,1E-3, 0,0,0,0,0,0,0,0,0,0]),\n",
    "        'px':np.array([0,0,0,-1E-3,1E-3, 0,0,0,0,0,0,0,0]),\n",
    "        'y':np.array([0,0,0,0,0,-1E-3,1E-3, 0,0,0,0,0,0]),\n",
    "        'py':np.array([0,0,0,0,0,0,0,-1E-3,1E-3, 0,0,0,0]),\n",
    "        'z':np.zeros(Np),\n",
    "        'pz':np.array([0,0,0,0,0,0,0,0,0,0,0,-1E-3,1E-3]),\n",
    "        't': np.array([0,0,0,0,0,0,0,0,0,-1E-3,1E-3, 0,0]),\n",
    "        'status':np.ones(Np), \n",
    "        'weight':np.ones(Np)*Q/Np, \n",
    "        'species':'electron'}\n",
    "P = ParticleGroup(data=data)\n",
    "\n",
    "P.write_bmad('bmad/beam_13p_bmad.txt')\n",
    "#P.write_elegant('elegant/beam_13p_elegant.sdds')"
   ]
  },
  {
   "cell_type": "code",
   "execution_count": 6,
   "id": "751ae3f9-ab68-4ef9-becf-e34d85d054b1",
   "metadata": {},
   "outputs": [
    {
     "data": {
      "text/plain": [
       "[]"
      ]
     },
     "execution_count": 6,
     "metadata": {},
     "output_type": "execute_result"
    }
   ],
   "source": [
    "# Run Bmad (loading in the beam without tracking) to produce the corresponding beam file in hdf5 (with correct coordinate )\n",
    "# Load the hdf5 file into ParticleGroup again to produce the corresponding beam file for Elegant\n",
    "\n",
    "tao = Tao(f'-init ./bmad/tao.init -noplot')\n",
    "\n",
    "tao.cmd(\"beamon\") # No tracking is required here..."
   ]
  },
  {
   "cell_type": "code",
   "execution_count": 17,
   "id": "3318c4ef-2053-4ddf-9ab6-b7d60e939d05",
   "metadata": {},
   "outputs": [
    {
     "name": "stdout",
     "output_type": "stream",
     "text": [
      "-------------------------\n",
      "Tao> write beam beam0_13p.hdf5 -at BEGINNING   ! For elegant use \n",
      "[INFO] tao_write_cmd:\n",
      "    Written: beam0_13p.hdf5\n",
      "-------------------------\n",
      "Tao> \n",
      "-------------------------\n",
      "Tao> write beam ./bmad/beam_end_tao.hdf5 -at END   ! For analysis\n",
      "[INFO] tao_write_cmd:\n",
      "    Written: ./bmad/beam_end_tao.hdf5\n",
      "-------------------------\n",
      "Tao> \n"
     ]
    }
   ],
   "source": [
    "%%tao\n",
    "write beam beam0_13p.hdf5 -at BEGINNING   ! For elegant use \n",
    "\n",
    "write beam ./bmad/beam_end_tao.hdf5 -at END   ! For analysis"
   ]
  },
  {
   "cell_type": "code",
   "execution_count": 15,
   "id": "8a4c07b1-65bc-4fa9-8ab3-fa7e2b1a0c2d",
   "metadata": {},
   "outputs": [],
   "source": [
    "H5FILE = root_dir+'/beam0_13p.hdf5'\n",
    "P = ParticleGroup(H5FILE)\n",
    "P.write_elegant(root_dir + '/elegant/beam0_13p.sdds')"
   ]
  },
  {
   "cell_type": "markdown",
   "id": "3249ea76-5574-47c9-bdc0-2d696a34b8f6",
   "metadata": {},
   "source": [
    "# Tao"
   ]
  },
  {
   "cell_type": "code",
   "execution_count": 34,
   "id": "f1f8ca7b-8bcf-4cc4-9a52-8db8bb0f3822",
   "metadata": {},
   "outputs": [
    {
     "data": {
      "text/plain": [
       "array([9.92226266])"
      ]
     },
     "execution_count": 34,
     "metadata": {},
     "output_type": "execute_result"
    }
   ],
   "source": [
    "tao.lat_list('END', 'ele.a.beta')"
   ]
  },
  {
   "cell_type": "code",
   "execution_count": 35,
   "id": "492d92d0-5bbf-4c58-bcb4-4719e2799864",
   "metadata": {},
   "outputs": [
    {
     "data": {
      "text/plain": [
       "array([0.])"
      ]
     },
     "execution_count": 35,
     "metadata": {},
     "output_type": "execute_result"
    }
   ],
   "source": [
    "tao.lat_list('END', 'ele.a.eta')"
   ]
  },
  {
   "cell_type": "code",
   "execution_count": 36,
   "id": "efada64a-83c4-47df-9c12-0d8027e6dbe6",
   "metadata": {},
   "outputs": [],
   "source": [
    "def get_twiss(tao, ele):\n",
    "    t1 = tao.lat_list(ele, 'beta_a')[0]\n",
    "    t2 = tao.lat_list(ele, 'alpha_a')[0]\n",
    "    t3 = tao.lat_list(ele, 'beta_b')[0]\n",
    "    t4 = tao.lat_list(ele, 'alpha_b')[0]\n",
    "    t5 = tao.lat_list(ele, 'eta_x')[0]\n",
    "    t6 = tao.lat_list(ele, 'etap_x')[0]\n",
    "    t7 = tao.lat_list(ele, 'eta_y')[0]\n",
    "    t8 = tao.lat_list(ele, 'etap_y')[0]\n",
    "    return t1, t2, t3, t4, t5, t6, t7, t8"
   ]
  },
  {
   "cell_type": "code",
   "execution_count": 37,
   "id": "0e74cc04-bcff-4514-87bc-01ab5cd6fec8",
   "metadata": {},
   "outputs": [
    {
     "data": {
      "text/plain": [
       "(9.922262663518694,\n",
       " 1.589689616045681,\n",
       " 9.958118884693812,\n",
       " 0.39687469868158354,\n",
       " 0.0,\n",
       " 0.0,\n",
       " 0.0,\n",
       " 0.0)"
      ]
     },
     "execution_count": 37,
     "metadata": {},
     "output_type": "execute_result"
    }
   ],
   "source": [
    "get_twiss(tao, 'END')"
   ]
  },
  {
   "cell_type": "code",
   "execution_count": 19,
   "id": "209ed445-398e-42fd-bd65-ed145aba1d54",
   "metadata": {},
   "outputs": [],
   "source": [
    "H5FILE = root_dir+'/bmad/beam_end_tao.hdf5'\n",
    "P = ParticleGroup(H5FILE)"
   ]
  },
  {
   "cell_type": "code",
   "execution_count": 20,
   "id": "af5f204e-9afd-4271-b529-2d53ad645782",
   "metadata": {},
   "outputs": [
    {
     "data": {
      "text/plain": [
       "array([ 0.00000000e+00, -1.00090014e-03,  1.00090014e-03, -3.00090008e-05,\n",
       "        3.00090008e-05,  0.00000000e+00,  0.00000000e+00,  0.00000000e+00,\n",
       "        0.00000000e+00,  0.00000000e+00,  0.00000000e+00,  0.00000000e+00,\n",
       "        0.00000000e+00])"
      ]
     },
     "execution_count": 20,
     "metadata": {},
     "output_type": "execute_result"
    }
   ],
   "source": [
    "P.x"
   ]
  },
  {
   "cell_type": "code",
   "execution_count": null,
   "id": "4ae2340f-1731-4339-b43d-04134c23077e",
   "metadata": {},
   "outputs": [],
   "source": []
  },
  {
   "cell_type": "code",
   "execution_count": null,
   "id": "060ba16c-72e8-4bde-bf31-045dd3c07c25",
   "metadata": {},
   "outputs": [],
   "source": []
  },
  {
   "cell_type": "code",
   "execution_count": null,
   "id": "8e2d78fb-3eb3-4862-bacd-e6b742652971",
   "metadata": {},
   "outputs": [],
   "source": []
  },
  {
   "cell_type": "code",
   "execution_count": 13,
   "id": "1190340c-94eb-4a96-8f13-22085a6e76e5",
   "metadata": {},
   "outputs": [
    {
     "name": "stdout",
     "output_type": "stream",
     "text": [
      "-------------------------\n",
      "Tao> write beam beam0_13p.hdf5 -at BEGINNING\n",
      "[INFO] tao_write_cmd:\n",
      "    Written: beam0_13p.hdf5\n",
      "-------------------------\n",
      "Tao> \n"
     ]
    }
   ],
   "source": [
    "%%tao\n",
    "write beam beam0_13p.hdf5 -at BEGINNING"
   ]
  },
  {
   "cell_type": "code",
   "execution_count": 14,
   "id": "1bc376f8-b0a4-4ad8-a9f8-f9350fde8088",
   "metadata": {},
   "outputs": [
    {
     "name": "stdout",
     "output_type": "stream",
     "text": [
      "cmake(8):ERROR:105: Unable to locate a modulefile for 'cmake/3.18.2'\n",
      "/global/u2/w/wlou1991/bmad_vs_elegant_simple\n"
     ]
    }
   ],
   "source": [
    "!pwd"
   ]
  },
  {
   "cell_type": "code",
   "execution_count": 15,
   "id": "3bcad554-ce5a-4436-967f-31d181e69c07",
   "metadata": {},
   "outputs": [],
   "source": [
    "# Load\n",
    "#h5 = File(H5FILE, 'r')\n",
    "#ppaths = particle_paths(h5)\n",
    "#ph5 = h5[ppaths[0]]\n",
    "\n",
    "P = ParticleGroup(H5FILE)\n",
    "\n",
    "#P.write_elegant('beam_BEAM0_1001_nopz.sdds')\n",
    "#P.write_elegant(str(locname) + '.sdds')\n",
    "#P.write_elegant('beam_BEAM0_Np202_ZPZcross_XPX.sdds')\n",
    "#P.write_elegant('beam_BEAM0_Np202_XPX_100MeV.sdds')\n",
    "\n",
    "#.write_elegant('Glen_beam_Np1M.sdds')\n",
    "P.write_elegant('beam0_13p.sdds')"
   ]
  },
  {
   "cell_type": "code",
   "execution_count": 21,
   "id": "a704d6dd-1c14-4ada-9627-24b516a25ff3",
   "metadata": {},
   "outputs": [
    {
     "name": "stdout",
     "output_type": "stream",
     "text": [
      "-------------------------\n",
      "Tao> sho ele 1\n",
      "Element # 1\n",
      "Element Name: Q1\n",
      "Key: Quadrupole\n",
      "S_start, S:      0.000000,      0.030000\n",
      "Ref_time:  1.002001E-10\n",
      "\n",
      "Attribute values [Only non-zero values shown]:\n",
      "    1  L                           =  3.0000000E-02 m\n",
      "    4  K1                          =  2.0000000E+00 1/m^2    45  B1_GRADIENT                 =  6.6625662E-02 T/m\n",
      "   10  FRINGE_TYPE                 =  None (1)               11  FRINGE_AT                   =  Both_Ends (3)\n",
      "   13  SPIN_FRINGE_ON              =  T (1)\n",
      "   47  PTC_CANONICAL_COORDS        =  T (1)\n",
      "   50  DELTA_REF_TIME              =  1.0020014E-10 sec\n",
      "   53  P0C                         =  9.9869355E+06 eV           BETA                        =  9.9869355E-01\n",
      "   54  E_TOT                       =  1.0000000E+07 eV           GAMMA                       =  1.9569512E+01\n",
      "   65  INTEGRATOR_ORDER            = 2\n",
      "   67  DS_STEP                     =  1.0000000E-02 m        66  NUM_STEPS                   = 3\n",
      "   68  CSR_DS_STEP                 =  0.0000000E+00 m\n",
      "\n",
      "       TRACKING_METHOD              =  Bmad_Standard             APERTURE_AT                =  Exit_End\n",
      "       MAT6_CALC_METHOD             =  Bmad_Standard             APERTURE_TYPE              =  Rectangular\n",
      "       SPIN_TRACKING_METHOD         =  Tracking                  OFFSET_MOVES_APERTURE      =  F\n",
      "       PTC_INTEGRATION_TYPE         =  Matrix_Kick               SYMPLECTIFY                =  F\n",
      "       CSR_METHOD                   =  Off                       FIELD_MASTER               =  F\n",
      "       SPACE_CHARGE_METHOD          =  Off                       LONGITUDINAL ORIENTATION   =       1\n",
      "       FIELD_CALC                   =  Bmad_Standard\n",
      "\n",
      "Slave_status: Free\n",
      "\n",
      "Lord_status:  Not_a_Lord\n",
      "\n",
      "Twiss at end of element:\n",
      "                          A              B            Cbar                        C_mat\n",
      "  Beta (m)         9.92226266     9.95811888  |   0.00000000   0.00000000      0.00000000   0.00000000\n",
      "  Alpha            1.58968962     0.39687470  |   0.00000000   0.00000000      0.00000000   0.00000000\n",
      "  Gamma (1/m)      0.35547467     0.11623777  |   Gamma_c =   1.00000000       Mode_Flip = F\n",
      "  Phi (rad)        0.00301083     0.00300721            X              Y              Z\n",
      "  Eta (m)          0.00000000     0.00000000     0.00000000     0.00000000     0.00007834\n",
      "  Etap             0.00000000     0.00000000     0.00000000     0.00000000     0.00000000\n",
      "\n",
      "Orbit:  Positron   State: Alive\n",
      "         Position[mm] Momentum[mrad]        Spin   |\n",
      "  X:       0.00000000     0.00000000               | t_particle [sec]:        1.00200135E-10  E_tot: 1.00000E+07\n",
      "  Y:       0.00000000     0.00000000               | t_part-t_ref [sec]:      0.00000000E+00  PC:    9.98694E+06\n",
      "  Z:       0.00000000     0.00000000               | (t_ref-t_part)*Vel [m]:  0.00000000E+00  Beta:  0.998693547\n",
      "-------------------------\n",
      "Tao> \n"
     ]
    }
   ],
   "source": [
    "%%tao\n",
    "sho ele 1"
   ]
  },
  {
   "cell_type": "code",
   "execution_count": 20,
   "id": "cb485b40-69d3-4403-bb61-db84f8f1e6c7",
   "metadata": {},
   "outputs": [
    {
     "data": {
      "text/plain": [
       "9986955.99070008"
      ]
     },
     "execution_count": 20,
     "metadata": {},
     "output_type": "execute_result"
    }
   ],
   "source": [
    "1.954394518728e+01 * 0.511e6"
   ]
  },
  {
   "cell_type": "code",
   "execution_count": null,
   "id": "08b02003-e638-40b4-9f43-f4953748e357",
   "metadata": {},
   "outputs": [],
   "source": [
    "9.9869355E+06"
   ]
  }
 ],
 "metadata": {
  "kernelspec": {
   "display_name": "Lcls-live",
   "language": "python",
   "name": "lcls-live"
  },
  "language_info": {
   "codemirror_mode": {
    "name": "ipython",
    "version": 3
   },
   "file_extension": ".py",
   "mimetype": "text/x-python",
   "name": "python",
   "nbconvert_exporter": "python",
   "pygments_lexer": "ipython3",
   "version": "3.8.13"
  }
 },
 "nbformat": 4,
 "nbformat_minor": 5
}
