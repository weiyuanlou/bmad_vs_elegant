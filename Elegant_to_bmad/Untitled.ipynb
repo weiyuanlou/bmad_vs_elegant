{
 "cells": [
  {
   "cell_type": "code",
   "execution_count": 1,
   "id": "11f7079e-e78e-400a-ac93-45a9bdfb85e3",
   "metadata": {},
   "outputs": [],
   "source": [
    "from pmd_beamphysics import ParticleGroup\n",
    "from pmd_beamphysics.interfaces.elegant import elegant_to_data\n",
    "from h5py import File\n",
    "\n",
    "\n",
    "import numpy as np\n",
    "\n",
    "from pytao import Tao\n",
    "\n",
    "import subprocess\n",
    "import os\n",
    "\n",
    "root_dir = os.getcwd()"
   ]
  },
  {
   "cell_type": "code",
   "execution_count": 6,
   "id": "f81ae0a6-6b3d-4181-9ace-48ce502b5112",
   "metadata": {},
   "outputs": [],
   "source": [
    "from parse_output import get_twiss_tao, get_twiss_elegant"
   ]
  },
  {
   "cell_type": "markdown",
   "id": "7c45b470-8cf8-41f3-a075-dd49ce21c519",
   "metadata": {},
   "source": [
    "## Run Tao"
   ]
  },
  {
   "cell_type": "code",
   "execution_count": 2,
   "id": "a545a9fc-a596-40a5-9afe-f0f2a87ca43e",
   "metadata": {},
   "outputs": [],
   "source": [
    "# This line can only be run ONCE\n",
    "\n",
    "#tao = Tao(f'-lat {root_dir}/one_ele.bmad -noplot')\n",
    "tao = Tao(f'-init {root_dir}/tao.init -noplot')"
   ]
  },
  {
   "cell_type": "code",
   "execution_count": 4,
   "id": "b0fe6239-0088-4d32-bf14-4e0d322456cf",
   "metadata": {},
   "outputs": [],
   "source": [
    "tao.cmd('beamon')\n",
    "tao.cmd('write beam ./beam_end_tao.hdf5 -at END');  # For analysis"
   ]
  },
  {
   "cell_type": "code",
   "execution_count": 7,
   "id": "06a57f7d-6b7a-431e-9ca6-ddc02427e846",
   "metadata": {},
   "outputs": [],
   "source": [
    "H5FILE = root_dir+'/beam_end_tao.hdf5'\n",
    "Ptao = ParticleGroup(H5FILE)\n",
    "\n",
    "twiss_tao = get_twiss_tao(tao, 'END')"
   ]
  },
  {
   "cell_type": "code",
   "execution_count": null,
   "id": "5c8fd0ac-8c22-4378-9fe2-2079e57eee2d",
   "metadata": {},
   "outputs": [],
   "source": []
  },
  {
   "cell_type": "code",
   "execution_count": null,
   "id": "fb51989b-8855-4888-844a-ebf8f269ee2b",
   "metadata": {},
   "outputs": [],
   "source": []
  }
 ],
 "metadata": {
  "kernelspec": {
   "display_name": "Lcls-live",
   "language": "python",
   "name": "lcls-live"
  },
  "language_info": {
   "codemirror_mode": {
    "name": "ipython",
    "version": 3
   },
   "file_extension": ".py",
   "mimetype": "text/x-python",
   "name": "python",
   "nbconvert_exporter": "python",
   "pygments_lexer": "ipython3",
   "version": "3.8.13"
  }
 },
 "nbformat": 4,
 "nbformat_minor": 5
}
