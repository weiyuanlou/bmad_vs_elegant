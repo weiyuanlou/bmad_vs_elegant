{
 "cells": [
  {
   "cell_type": "code",
   "execution_count": 3,
   "metadata": {},
   "outputs": [],
   "source": [
    "from pmd_beamphysics import ParticleGroup, particle_paths\n",
    "from pmd_beamphysics.interfaces.elegant import elegant_to_data\n",
    "from h5py import File\n",
    "import numpy as np"
   ]
  },
  {
   "cell_type": "code",
   "execution_count": null,
   "metadata": {},
   "outputs": [],
   "source": []
  },
  {
   "cell_type": "code",
   "execution_count": null,
   "metadata": {},
   "outputs": [],
   "source": []
  },
  {
   "cell_type": "code",
   "execution_count": 48,
   "metadata": {},
   "outputs": [],
   "source": [
    "weight=np.ones(11)*10E-9"
   ]
  },
  {
   "cell_type": "code",
   "execution_count": 4,
   "metadata": {},
   "outputs": [],
   "source": [
    "Q = 100E-12     # Total charge\n",
    "Np = 5      # Number of macro particles\n",
    "data = {'x':np.linspace(-2E-3,2E-3,Np),\n",
    "        'px':np.linspace(-2E-3,2E-3,Np),\n",
    "        'y':np.zeros(Np),\n",
    "        'py':np.zeros(Np),\n",
    "        'z':np.zeros(Np),\n",
    "        'pz':np.zeros(Np),\n",
    "        't':np.linspace(-2E-3,2E-3,Np), \n",
    "        'status':np.ones(Np), \n",
    "        'weight':np.ones(Np)*Q/Np, \n",
    "        'species':'electron'}\n",
    "P = ParticleGroup(data=data)\n",
    "P.write_bmad('haha.txt')\n",
    "#P.write_elegant('elegant_particles.txt')"
   ]
  },
  {
   "cell_type": "code",
   "execution_count": 10,
   "metadata": {},
   "outputs": [
    {
     "data": {
      "text/plain": [
       "array([-0.002, -0.001,  0.   ,  0.001,  0.002])"
      ]
     },
     "execution_count": 10,
     "metadata": {},
     "output_type": "execute_result"
    }
   ],
   "source": [
    "P.x"
   ]
  },
  {
   "cell_type": "code",
   "execution_count": null,
   "metadata": {},
   "outputs": [],
   "source": [
    "P.x"
   ]
  },
  {
   "cell_type": "code",
   "execution_count": null,
   "metadata": {},
   "outputs": [],
   "source": []
  },
  {
   "cell_type": "code",
   "execution_count": null,
   "metadata": {},
   "outputs": [],
   "source": []
  },
  {
   "cell_type": "code",
   "execution_count": 43,
   "metadata": {},
   "outputs": [],
   "source": [
    "## Beam shaped like a cross in z-pz space\n",
    "Q = 100E-12     # Total charge\n",
    "Np = 202      # Number of macro particles\n",
    "data = {'x':np.linspace(-1E-3,1E-3,int(Np)),\n",
    "        'px':np.linspace(-1E-3,1E-3,int(Np)),\n",
    "        #'x':np.zeros(Np),'px':np.zeros(Np),\n",
    "        'y':np.zeros(Np),'py':np.zeros(Np),\n",
    "        'z':np.zeros(Np),\n",
    "        #'pz':np.append(np.zeros(int(Np/2)), np.linspace(-1E-2,1E-2,int(Np/2))),\n",
    "        #'t':np.append(np.linspace(-1E-3,1E-3,int(Np/2)), np.zeros(int(Np/2))), \n",
    "        'pz':np.zeros(Np), \n",
    "        't':np.zeros(Np), \n",
    "        'status':np.ones(Np), \n",
    "        'weight':np.ones(Np)*Q/Np, \n",
    "        'species':'electron'}\n",
    "P = ParticleGroup(data=data)\n",
    "#P.write_bmad('beam_BEAM0_Np202_ZPZcross_XPX.txt')\n",
    "P.write_bmad('beam_BEAM0_Np202_XPX.txt')"
   ]
  },
  {
   "cell_type": "code",
   "execution_count": 36,
   "metadata": {},
   "outputs": [
    {
     "data": {
      "text/plain": [
       "202"
      ]
     },
     "execution_count": 36,
     "metadata": {},
     "output_type": "execute_result"
    }
   ],
   "source": [
    "P.n_particle"
   ]
  },
  {
   "cell_type": "code",
   "execution_count": 3,
   "metadata": {},
   "outputs": [
    {
     "data": {
      "text/plain": [
       "1.0000000000000002e-10"
      ]
     },
     "execution_count": 3,
     "metadata": {},
     "output_type": "execute_result"
    }
   ],
   "source": [
    "P.charge"
   ]
  },
  {
   "cell_type": "markdown",
   "metadata": {},
   "source": [
    "# Convert h5 file from Bmad to sdds file required by Elegant"
   ]
  },
  {
   "cell_type": "code",
   "execution_count": 10,
   "metadata": {},
   "outputs": [],
   "source": [
    "#H5FILE = '/global/homes/w/wlou1991/cfs/csr_lcls/Aug12_2020_alloff_Np11/beam0.hdf5'\n",
    "H5FILE = '/global/homes/w/wlou1991/cfs/csr_lcls/Aug18_2020_alloff_Np1001/beam_BEAM0_1001_nopz.hdf5'\n",
    "locname='CM14END'\n",
    "H5FILE = '/global/homes/w/wlou1991/cfs/csr_lcls/Aug18_2020_alloff_Np1001/Nb_0_Np_100k/'+ str(locname)+'.hdf5'\n",
    "#H5FILE = '/global/homes/w/wlou1991/cfs/csr_lcls/Aug18_2020_alloff_Np1001/beam0.hdf5'\n",
    "\n",
    "H5FILE = '/global/u2/w/wlou1991/GitHub/bmad_vs_elegant/bmad/CM02BEG.hdf5'\n",
    "\n",
    "H5FILE = '/global/cfs/cdirs/m669/wlou1991/bmad_distributions/bmad_svn/tao/examples/simple_bend_Glen/Glen_beam_Np1M.hdf5'\n",
    "\n",
    "H5FILE = '/global/homes/w/wlou1991/cfs/CSR2D/benchmarking/chicane/bmad/Beam_in.h5'\n",
    "\n",
    "# Load\n",
    "h5 = File(H5FILE, 'r')\n",
    "ppaths = particle_paths(h5)\n",
    "ph5 = h5[ppaths[0]]\n",
    "\n",
    "P = ParticleGroup(ph5)\n",
    "\n",
    "#P.write_elegant('beam_BEAM0_1001_nopz.sdds')\n",
    "#P.write_elegant(str(locname) + '.sdds')\n",
    "#P.write_elegant('beam_BEAM0_Np202_ZPZcross_XPX.sdds')\n",
    "#P.write_elegant('beam_BEAM0_Np202_XPX_100MeV.sdds')\n",
    "\n",
    "#.write_elegant('Glen_beam_Np1M.sdds')\n",
    "P.write_elegant('chicane_Beam_in.sdds')"
   ]
  },
  {
   "cell_type": "code",
   "execution_count": 7,
   "metadata": {},
   "outputs": [],
   "source": [
    "P.write_elegant('hahaha')"
   ]
  },
  {
   "cell_type": "code",
   "execution_count": 6,
   "metadata": {},
   "outputs": [
    {
     "data": {
      "text/plain": [
       "\u001b[0;31mSignature:\u001b[0m \u001b[0mP\u001b[0m\u001b[0;34m.\u001b[0m\u001b[0mwrite_elegant\u001b[0m\u001b[0;34m(\u001b[0m\u001b[0mfilePath\u001b[0m\u001b[0;34m,\u001b[0m \u001b[0mverbose\u001b[0m\u001b[0;34m=\u001b[0m\u001b[0;32mFalse\u001b[0m\u001b[0;34m)\u001b[0m\u001b[0;34m\u001b[0m\u001b[0;34m\u001b[0m\u001b[0m\n",
       "\u001b[0;31mDocstring:\u001b[0m <no docstring>\n",
       "\u001b[0;31mFile:\u001b[0m      ~/GitHub/openPMD-beamphysics/pmd_beamphysics/particles.py\n",
       "\u001b[0;31mType:\u001b[0m      method\n"
      ]
     },
     "metadata": {},
     "output_type": "display_data"
    }
   ],
   "source": [
    "?P.write_elegant"
   ]
  },
  {
   "cell_type": "code",
   "execution_count": 4,
   "metadata": {},
   "outputs": [
    {
     "data": {
      "text/plain": [
       "202"
      ]
     },
     "execution_count": 4,
     "metadata": {},
     "output_type": "execute_result"
    }
   ],
   "source": [
    "P.n_particle"
   ]
  },
  {
   "cell_type": "code",
   "execution_count": 4,
   "metadata": {},
   "outputs": [
    {
     "name": "stdout",
     "output_type": "stream",
     "text": [
      "/global/u2/w/wlou1991/GitHub/bmad_vs_elegant\n"
     ]
    }
   ],
   "source": [
    "!pwd"
   ]
  },
  {
   "cell_type": "code",
   "execution_count": null,
   "metadata": {},
   "outputs": [],
   "source": []
  }
 ],
 "metadata": {
  "kernelspec": {
   "display_name": "Lcls-live",
   "language": "python",
   "name": "lcls-live"
  },
  "language_info": {
   "codemirror_mode": {
    "name": "ipython",
    "version": 3
   },
   "file_extension": ".py",
   "mimetype": "text/x-python",
   "name": "python",
   "nbconvert_exporter": "python",
   "pygments_lexer": "ipython3",
   "version": "3.8.13"
  }
 },
 "nbformat": 4,
 "nbformat_minor": 4
}
