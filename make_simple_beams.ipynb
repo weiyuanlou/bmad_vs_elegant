{
 "cells": [
  {
   "cell_type": "code",
   "execution_count": 1,
   "metadata": {},
   "outputs": [],
   "source": [
    "from pmd_beamphysics import ParticleGroup, particle_paths\n",
    "from pmd_beamphysics.interfaces.elegant import elegant_to_data\n",
    "from h5py import File\n",
    "import numpy as np\n",
    "\n",
    "import numpy as np\n",
    "\n",
    "from pytao import Tao\n",
    "\n",
    "import subprocess\n",
    "import os\n",
    "root_dir = os.getcwd()"
   ]
  },
  {
   "cell_type": "markdown",
   "metadata": {},
   "source": [
    "# Make a beam of 13 particles"
   ]
  },
  {
   "cell_type": "markdown",
   "metadata": {},
   "source": [
    "#### Run Tao (loading in the beam at BEGINNING without tracking) to produce the corresponding beam file in hdf5 (with correct coordinate )\n",
    "#### Load the hdf5 file into ParticleGroup again to produce the corresponding beam file for Elegant"
   ]
  },
  {
   "cell_type": "code",
   "execution_count": 2,
   "metadata": {},
   "outputs": [],
   "source": [
    "# Make a bmad beam via ParticleGroup\n",
    "# Note that these particles aim to follow the Bmad coordinate ( not at rest )\n",
    "\n",
    "Q = 13E-12     # Total charge\n",
    "Np = 13     # Number of macro particles\n",
    "data = {'x':np.array([0,-1E-3,1E-3, 0,0,0,0,0,0,0,0,0,0]),\n",
    "        'px':np.array([0,0,0,-1E-3,1E-3, 0,0,0,0,0,0,0,0]),\n",
    "        'y':np.array([0,0,0,0,0,-1E-3,1E-3, 0,0,0,0,0,0]),\n",
    "        'py':np.array([0,0,0,0,0,0,0,-1E-3,1E-3, 0,0,0,0]),\n",
    "        'z':np.zeros(Np),\n",
    "        'pz':np.array([0,0,0,0,0,0,0,0,0,0,0,-1E-3,1E-3]),\n",
    "        't': np.array([0,0,0,0,0,0,0,0,0,-1E-3,1E-3, 0,0]),\n",
    "        'status':np.ones(Np), \n",
    "        'weight':np.ones(Np)*Q/Np, \n",
    "        'species':'electron'}\n",
    "P = ParticleGroup(data=data)\n",
    "\n",
    "P.write_bmad('bmad/beam_13p_bmad.txt')\n",
    "#P.write_elegant('elegant/beam_13p_elegant.sdds')"
   ]
  },
  {
   "cell_type": "code",
   "execution_count": 3,
   "metadata": {},
   "outputs": [],
   "source": [
    "tao = Tao(f'-init {root_dir}/bmad/tao.init -noplot')"
   ]
  },
  {
   "cell_type": "code",
   "execution_count": 4,
   "metadata": {},
   "outputs": [
    {
     "data": {
      "text/plain": [
       "[]"
      ]
     },
     "execution_count": 4,
     "metadata": {},
     "output_type": "execute_result"
    }
   ],
   "source": [
    "tao.cmd(\"beamon\") # No tracking is required here..."
   ]
  },
  {
   "cell_type": "code",
   "execution_count": 5,
   "metadata": {},
   "outputs": [
    {
     "name": "stdout",
     "output_type": "stream",
     "text": [
      "-------------------------\n",
      "Tao> write beam beam0_13p.hdf5 -at BEGINNING   ! For elegant use \n",
      "[INFO] tao_write_cmd:\n",
      "    Written: beam0_13p.hdf5\n",
      "-------------------------\n",
      "Tao> \n"
     ]
    }
   ],
   "source": [
    "%%tao\n",
    "write beam beam0_13p.hdf5 -at BEGINNING   ! For elegant use "
   ]
  },
  {
   "cell_type": "code",
   "execution_count": 6,
   "metadata": {},
   "outputs": [],
   "source": [
    "# Create beam file for elegant\n",
    "H5FILE = root_dir+'/beam0_13p.hdf5'\n",
    "P = ParticleGroup(H5FILE)\n",
    "P.write_elegant(root_dir + '/elegant/beam0_13p.sdds')"
   ]
  },
  {
   "cell_type": "code",
   "execution_count": null,
   "metadata": {},
   "outputs": [],
   "source": []
  }
 ],
 "metadata": {
  "kernelspec": {
   "display_name": "Lcls-live",
   "language": "python",
   "name": "lcls-live"
  },
  "language_info": {
   "codemirror_mode": {
    "name": "ipython",
    "version": 3
   },
   "file_extension": ".py",
   "mimetype": "text/x-python",
   "name": "python",
   "nbconvert_exporter": "python",
   "pygments_lexer": "ipython3",
   "version": "3.8.13"
  }
 },
 "nbformat": 4,
 "nbformat_minor": 4
}
